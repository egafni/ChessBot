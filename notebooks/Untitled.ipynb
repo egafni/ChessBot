{
 "cells": [
  {
   "cell_type": "code",
   "execution_count": 1,
   "id": "b5ceb111-67b4-48a0-becb-6d7db561bd84",
   "metadata": {},
   "outputs": [],
   "source": [
    "import chess\n",
    "from chess import pgn\n",
    "import bz2"
   ]
  },
  {
   "cell_type": "code",
   "execution_count": 2,
   "id": "3ce6469c-ed03-47f9-8594-70eb2b84b2df",
   "metadata": {},
   "outputs": [
    {
     "name": "stderr",
     "output_type": "stream",
     "text": [
      "/home/spock/projects/ChessBot/.venv/lib/python3.8/site-packages/tqdm/auto.py:22: TqdmWarning: IProgress not found. Please update jupyter and ipywidgets. See https://ipywidgets.readthedocs.io/en/stable/user_install.html\n",
      "  from .autonotebook import tqdm as notebook_tqdm\n"
     ]
    }
   ],
   "source": [
    "from chessbot import data"
   ]
  },
  {
   "cell_type": "code",
   "execution_count": 3,
   "id": "ca0620af-e75e-4bb7-9504-8601d4fdbf9a",
   "metadata": {},
   "outputs": [],
   "source": [
    "from chessbot.data import ChessDataModule"
   ]
  },
  {
   "cell_type": "code",
   "execution_count": 4,
   "id": "5c3dc17e-49e5-41e0-b635-304a6d9e2c54",
   "metadata": {},
   "outputs": [],
   "source": [
    "dm = ChessDataModule('/static/chess/data/lichess_db_standard_rated_2014-11.pgn.bz2.npy')\n",
    "dm.setup()"
   ]
  },
  {
   "cell_type": "code",
   "execution_count": 5,
   "id": "3dd69e9f-19e2-4917-b680-f81e62c9a981",
   "metadata": {},
   "outputs": [],
   "source": [
    "dl = dm.train_dataloader()"
   ]
  },
  {
   "cell_type": "code",
   "execution_count": null,
   "id": "811c9b7c-d5c1-4894-8fd6-e5752e53d6d9",
   "metadata": {},
   "outputs": [],
   "source": []
  },
  {
   "cell_type": "code",
   "execution_count": 7,
   "id": "952574b8-03a8-48c8-84f4-1f7ae960f7f4",
   "metadata": {},
   "outputs": [],
   "source": [
    "data = next(iter(dl))"
   ]
  },
  {
   "cell_type": "code",
   "execution_count": 12,
   "id": "e6a90173-8e15-440c-9655-f29d4466375a",
   "metadata": {},
   "outputs": [
    {
     "name": "stdout",
     "output_type": "stream",
     "text": [
      "Using version \u001b[1m^8.13.0\u001b[0m for \u001b[36mmore-itertools\u001b[0m\n",
      "\n",
      "\u001b[34mUpdating dependencies\u001b[0m\n",
      "\u001b[2K\u001b[34mResolving dependencies...\u001b[0m \u001b[39;2m(1.1s)\u001b[0m\n",
      "\n",
      "\u001b[34mWriting lock file\u001b[0m\n",
      "\n",
      "\u001b[1mPackage operations\u001b[0m: \u001b[34m1\u001b[0m install, \u001b[34m0\u001b[0m updates, \u001b[34m0\u001b[0m removals\n",
      "\n",
      "  \u001b[34;1m•\u001b[0m \u001b[39mInstalling \u001b[0m\u001b[36mmore-itertools\u001b[0m\u001b[39m (\u001b[0m\u001b[39;1m8.13.0\u001b[0m\u001b[39m)\u001b[0m: \u001b[34mPending...\u001b[0m\n",
      "\u001b[1A\u001b[0J  \u001b[34;1m•\u001b[0m \u001b[39mInstalling \u001b[0m\u001b[36mmore-itertools\u001b[0m\u001b[39m (\u001b[0m\u001b[39;1m8.13.0\u001b[0m\u001b[39m)\u001b[0m: \u001b[34mDownloading...\u001b[0m \u001b[1m0%\u001b[0m\n",
      "\u001b[1A\u001b[0J  \u001b[34;1m•\u001b[0m \u001b[39mInstalling \u001b[0m\u001b[36mmore-itertools\u001b[0m\u001b[39m (\u001b[0m\u001b[39;1m8.13.0\u001b[0m\u001b[39m)\u001b[0m: \u001b[34mDownloading...\u001b[0m \u001b[1m100%\u001b[0m\n",
      "\u001b[1A\u001b[0J  \u001b[34;1m•\u001b[0m \u001b[39mInstalling \u001b[0m\u001b[36mmore-itertools\u001b[0m\u001b[39m (\u001b[0m\u001b[39;1m8.13.0\u001b[0m\u001b[39m)\u001b[0m: \u001b[34mDownloading...\u001b[0m \u001b[1m100%\u001b[0m\n",
      "\u001b[1A\u001b[0J  \u001b[34;1m•\u001b[0m \u001b[39mInstalling \u001b[0m\u001b[36mmore-itertools\u001b[0m\u001b[39m (\u001b[0m\u001b[39;1m8.13.0\u001b[0m\u001b[39m)\u001b[0m: \u001b[34mInstalling...\u001b[0m\n",
      "\u001b[1A\u001b[0J  \u001b[32;1m•\u001b[0m \u001b[39mInstalling \u001b[0m\u001b[36mmore-itertools\u001b[0m\u001b[39m (\u001b[0m\u001b[32m8.13.0\u001b[0m\u001b[39m)\u001b[0m\n"
     ]
    }
   ],
   "source": [
    "!poetry add more_itertools"
   ]
  },
  {
   "cell_type": "code",
   "execution_count": 47,
   "id": "763c53ba-cafa-47e9-b155-4c6459b96d66",
   "metadata": {},
   "outputs": [
    {
     "data": {
      "text/plain": [
       "69"
      ]
     },
     "execution_count": 47,
     "metadata": {},
     "output_type": "execute_result"
    }
   ],
   "source": [
    "len(VOCAB)"
   ]
  },
  {
   "cell_type": "code",
   "execution_count": 60,
   "id": "f7b900a4-9c34-4ffe-87cc-34acf810f71a",
   "metadata": {},
   "outputs": [
    {
     "data": {
      "text/plain": [
       "[66, 64, 33, 35, 64, 22, 20, 64, 48, 42, 64, 68]"
      ]
     },
     "execution_count": 60,
     "metadata": {},
     "output_type": "execute_result"
    }
   ],
   "source": [
    "def tokenize(x, vocab):\n",
    "    \"\"\"\n",
    "    First token is A or B which we map to \n",
    "    Last token is w/l/d\n",
    "    \n",
    "    >>> list(tokenize('B e2e4 c7c5 g1f3 1', VOCAB))\n",
    "        \n",
    "    \"\"\"\n",
    "    tokens = x.split(' ')\n",
    "    yield vocab[tokens[0]]\n",
    "    yield vocab[' ']\n",
    "\n",
    "    for token in tokens[1:-1]:\n",
    "        yield vocab[token[0:2]]\n",
    "        yield vocab[token[2:4]]\n",
    "        yield vocab[' ']\n",
    "    \n",
    "    yield vocab[tokens[-1]]\n",
    "list(tokenize('B e2e4 c7c5 g1f3 1', VOCAB))\n",
    "        "
   ]
  },
  {
   "cell_type": "code",
   "execution_count": 45,
   "id": "cec5056c-9827-4eee-a929-d99d124acd4d",
   "metadata": {},
   "outputs": [
    {
     "name": "stdout",
     "output_type": "stream",
     "text": [
      "> \u001b[0;32m/tmp/ipykernel_267671/2290638380.py\u001b[0m(17)\u001b[0;36m<listcomp>\u001b[0;34m()\u001b[0m\n",
      "\u001b[0;32m     15 \u001b[0;31m\u001b[0;34m\u001b[0m\u001b[0m\n",
      "\u001b[0m\u001b[0;32m     16 \u001b[0;31m\u001b[0;34m\u001b[0m\u001b[0m\n",
      "\u001b[0m\u001b[0;32m---> 17 \u001b[0;31m    \u001b[0;32mreturn\u001b[0m \u001b[0;34m[\u001b[0m\u001b[0mvocab\u001b[0m\u001b[0;34m[\u001b[0m\u001b[0mc1\u001b[0m\u001b[0;34m+\u001b[0m\u001b[0mc2\u001b[0m\u001b[0;34m]\u001b[0m \u001b[0;32mfor\u001b[0m \u001b[0mc1\u001b[0m\u001b[0;34m,\u001b[0m\u001b[0mc2\u001b[0m \u001b[0;32min\u001b[0m \u001b[0mchunked\u001b[0m\u001b[0;34m(\u001b[0m\u001b[0mx\u001b[0m\u001b[0;34m[\u001b[0m\u001b[0;36m2\u001b[0m\u001b[0;34m:\u001b[0m\u001b[0;34m-\u001b[0m\u001b[0;36m2\u001b[0m\u001b[0;34m]\u001b[0m\u001b[0;34m,\u001b[0m\u001b[0;36m2\u001b[0m\u001b[0;34m)\u001b[0m\u001b[0;34m]\u001b[0m\u001b[0;34m\u001b[0m\u001b[0;34m\u001b[0m\u001b[0m\n",
      "\u001b[0m\u001b[0;32m     18 \u001b[0;31m\u001b[0;34m\u001b[0m\u001b[0m\n",
      "\u001b[0m\u001b[0;32m     19 \u001b[0;31m\u001b[0mlist\u001b[0m\u001b[0;34m(\u001b[0m\u001b[0mtokenize\u001b[0m\u001b[0;34m(\u001b[0m\u001b[0mdata\u001b[0m\u001b[0;34m[\u001b[0m\u001b[0;36m0\u001b[0m\u001b[0;34m]\u001b[0m\u001b[0;34m,\u001b[0m \u001b[0mVOCAB\u001b[0m\u001b[0;34m)\u001b[0m\u001b[0;34m)\u001b[0m\u001b[0;34m\u001b[0m\u001b[0;34m\u001b[0m\u001b[0m\n",
      "\u001b[0m\n"
     ]
    },
    {
     "name": "stdin",
     "output_type": "stream",
     "text": [
      "ipdb>  print(x)\n"
     ]
    },
    {
     "name": "stdout",
     "output_type": "stream",
     "text": [
      "*** NameError: name 'x' is not defined\n"
     ]
    },
    {
     "name": "stdin",
     "output_type": "stream",
     "text": [
      "ipdb>  u\n"
     ]
    },
    {
     "name": "stdout",
     "output_type": "stream",
     "text": [
      "> \u001b[0;32m/tmp/ipykernel_267671/2290638380.py\u001b[0m(17)\u001b[0;36mtokenize\u001b[0;34m()\u001b[0m\n",
      "\u001b[0;32m     15 \u001b[0;31m\u001b[0;34m\u001b[0m\u001b[0m\n",
      "\u001b[0m\u001b[0;32m     16 \u001b[0;31m\u001b[0;34m\u001b[0m\u001b[0m\n",
      "\u001b[0m\u001b[0;32m---> 17 \u001b[0;31m    \u001b[0;32mreturn\u001b[0m \u001b[0;34m[\u001b[0m\u001b[0mvocab\u001b[0m\u001b[0;34m[\u001b[0m\u001b[0mc1\u001b[0m\u001b[0;34m+\u001b[0m\u001b[0mc2\u001b[0m\u001b[0;34m]\u001b[0m \u001b[0;32mfor\u001b[0m \u001b[0mc1\u001b[0m\u001b[0;34m,\u001b[0m\u001b[0mc2\u001b[0m \u001b[0;32min\u001b[0m \u001b[0mchunked\u001b[0m\u001b[0;34m(\u001b[0m\u001b[0mx\u001b[0m\u001b[0;34m[\u001b[0m\u001b[0;36m2\u001b[0m\u001b[0;34m:\u001b[0m\u001b[0;34m-\u001b[0m\u001b[0;36m2\u001b[0m\u001b[0;34m]\u001b[0m\u001b[0;34m,\u001b[0m\u001b[0;36m2\u001b[0m\u001b[0;34m)\u001b[0m\u001b[0;34m]\u001b[0m\u001b[0;34m\u001b[0m\u001b[0;34m\u001b[0m\u001b[0m\n",
      "\u001b[0m\u001b[0;32m     18 \u001b[0;31m\u001b[0;34m\u001b[0m\u001b[0m\n",
      "\u001b[0m\u001b[0;32m     19 \u001b[0;31m\u001b[0mlist\u001b[0m\u001b[0;34m(\u001b[0m\u001b[0mtokenize\u001b[0m\u001b[0;34m(\u001b[0m\u001b[0mdata\u001b[0m\u001b[0;34m[\u001b[0m\u001b[0;36m0\u001b[0m\u001b[0;34m]\u001b[0m\u001b[0;34m,\u001b[0m \u001b[0mVOCAB\u001b[0m\u001b[0;34m)\u001b[0m\u001b[0;34m)\u001b[0m\u001b[0;34m\u001b[0m\u001b[0;34m\u001b[0m\u001b[0m\n",
      "\u001b[0m\n"
     ]
    },
    {
     "name": "stdin",
     "output_type": "stream",
     "text": [
      "ipdb>  p x\n"
     ]
    },
    {
     "name": "stdout",
     "output_type": "stream",
     "text": [
      "'B e2e4 c7c5 g1f3 d7d6 d2d4 c5d4 d1d4 g8f6 c1g5 e7e6 g5f6 g7f6 b1c3 b8c6 f1b5 a7a6 b5c6 b7c6 e1c1 d6d5 e4d5 c6d5 h1e1 f8g7 c3d5 e8g8 d5b6 d8d4 d1d4 f6f5 d4b4 a8b8 b4b3 c8b7 b6d7 b7d5 d7b8 d5b3 b8a6 b3a2 b2b3 f8a8 a6b4 a2b1 f3e5 a8a1 c1b2 a1a2 b4a2 2'\n"
     ]
    },
    {
     "name": "stdin",
     "output_type": "stream",
     "text": [
      "ipdb>  list(chunked(x[2:-2],2))\n"
     ]
    },
    {
     "name": "stdout",
     "output_type": "stream",
     "text": [
      "*** Error in argument: '(chunked(x[2:-2],2))'\n"
     ]
    },
    {
     "name": "stdin",
     "output_type": "stream",
     "text": [
      "ipdb>  p list(chunked(x[2:-2],2))\n"
     ]
    },
    {
     "name": "stdout",
     "output_type": "stream",
     "text": [
      "[['e', '2'], ['e', '4'], [' ', 'c'], ['7', 'c'], ['5', ' '], ['g', '1'], ['f', '3'], [' ', 'd'], ['7', 'd'], ['6', ' '], ['d', '2'], ['d', '4'], [' ', 'c'], ['5', 'd'], ['4', ' '], ['d', '1'], ['d', '4'], [' ', 'g'], ['8', 'f'], ['6', ' '], ['c', '1'], ['g', '5'], [' ', 'e'], ['7', 'e'], ['6', ' '], ['g', '5'], ['f', '6'], [' ', 'g'], ['7', 'f'], ['6', ' '], ['b', '1'], ['c', '3'], [' ', 'b'], ['8', 'c'], ['6', ' '], ['f', '1'], ['b', '5'], [' ', 'a'], ['7', 'a'], ['6', ' '], ['b', '5'], ['c', '6'], [' ', 'b'], ['7', 'c'], ['6', ' '], ['e', '1'], ['c', '1'], [' ', 'd'], ['6', 'd'], ['5', ' '], ['e', '4'], ['d', '5'], [' ', 'c'], ['6', 'd'], ['5', ' '], ['h', '1'], ['e', '1'], [' ', 'f'], ['8', 'g'], ['7', ' '], ['c', '3'], ['d', '5'], [' ', 'e'], ['8', 'g'], ['8', ' '], ['d', '5'], ['b', '6'], [' ', 'd'], ['8', 'd'], ['4', ' '], ['d', '1'], ['d', '4'], [' ', 'f'], ['6', 'f'], ['5', ' '], ['d', '4'], ['b', '4'], [' ', 'a'], ['8', 'b'], ['8', ' '], ['b', '4'], ['b', '3'], [' ', 'c'], ['8', 'b'], ['7', ' '], ['b', '6'], ['d', '7'], [' ', 'b'], ['7', 'd'], ['5', ' '], ['d', '7'], ['b', '8'], [' ', 'd'], ['5', 'b'], ['3', ' '], ['b', '8'], ['a', '6'], [' ', 'b'], ['3', 'a'], ['2', ' '], ['b', '2'], ['b', '3'], [' ', 'f'], ['8', 'a'], ['8', ' '], ['a', '6'], ['b', '4'], [' ', 'a'], ['2', 'b'], ['1', ' '], ['f', '3'], ['e', '5'], [' ', 'a'], ['8', 'a'], ['1', ' '], ['c', '1'], ['b', '2'], [' ', 'a'], ['1', 'a'], ['2', ' '], ['b', '4'], ['a', '2']]\n"
     ]
    },
    {
     "name": "stdin",
     "output_type": "stream",
     "text": [
      "ipdb>  q\n"
     ]
    }
   ],
   "source": [
    "%debug"
   ]
  },
  {
   "cell_type": "code",
   "execution_count": 11,
   "id": "9458e9af-1bd6-4fc7-b3dc-cc7587db88a9",
   "metadata": {},
   "outputs": [
    {
     "data": {
      "text/plain": [
       "['B e2e4 c7c5 g1f3 d7d6 d2d4 c5d4 d1d4 g8f6 c1g5 e7e6 g5f6 g7f6 b1c3 b8c6 f1b5 a7a6 b5c6 b7c6 e1c1 d6d5 e4d5 c6d5 h1e1 f8g7 c3d5 e8g8 d5b6 d8d4 d1d4 f6f5 d4b4 a8b8 b4b3 c8b7 b6d7 b7d5 d7b8 d5b3 b8a6 b3a2 b2b3 f8a8 a6b4 a2b1 f3e5 a8a1 c1b2 a1a2 b4a2 2',\n",
       " 'B f2f4 e7e5 g1f3 e5f4 d2d4 g7g5 h2h4 f7f6 h4g5 f6g5 f3e5 d7d6 e5d3 c8f5 e2e3 f4e3 c1e3 d8e7 d1d2 b8d7 b1c3 e8c8 e1c1 d8e8 e3g5 g8f6 c3d5 e7g7 d5f6 d7f6 g5f6 g7f6 d3f4 f5g6 f4g6 f6g6 f1d3 g6g7 c2c3 f8e7 c1b1 e7g5 d2c2 h7h6 d3e2 e8e3 e2f3 h8e8 c2a4 c8b8 a4b5 c7c5 d4c5 d6c5 b5c5 e8c8 c5d6 g7c7 d6c7 c8c7 b1c2 c7e7 d1d3 e3d3 c2d3 e7e3 d3d4 b8c7 h1h5 e3e7 h5h1 e7d7 d4e5 d7d2 h1b1 b7b6 a2a4 a7a5 b2b4 a5b4 b1b4 d2c2 b4c4 c7d7 f3c6 d7e7 c6b5 g5d2 c4c7 e7f8 c3c4 d2e3 g2g4 c2f2 c7c6 f8e7 c6c7 e7d8 c7g7 d8c8 e5d6 e3c5 d6c6 f2f6 c6d5 c8d8 d5e5 f6f2 g7g6 c5e3 e5d6 f2d2 d6c6 d8e8 c6c7 e8f8 g6c6 e3c5 c6c5 b6c5 c7c6 d2b2 c6c5 b2g2 a4a5 g2g4 a5a6 g4g5 c5c6 g5b5 1',\n",
       " 'B g1f3 b8c6 g2g3 g7g6 f1g2 f8g7 e1g1 e7e6 e2e3 d7d5 d2d3 g8e7 c2c3 e8g8 b1d2 d8d6 d3d4 c6d8 b2b3 c7c5 a2a4 d8c6 c1a3 d6c7 a3c5 f8e8 b3b4 b7b6 c5e7 c6e7 a1c1 c8b7 d2b3 c7d6 d1d3 a8c8 f3d2 e6e5 d4e5 g7e5 d2b1 e7f5 b3d4 f5d4 e3d4 e5g7 f1e1 e8e6 e1e6 f7e6 c1e1 c8e8 f2f4 d6d7 g2h3 d7a4 h3e6 g8h8 e1e2 b7a6 1',\n",
       " 'B e2e4 e7e5 g1f3 d7d6 f1c4 g8f6 d2d3 b8c6 c2c3 d6d5 e4d5 f6d5 d1e2 f7f6 e1g1 c8e6 d3d4 f8d6 d4e5 c6e5 f3e5 f6e5 e2h5 e6f7 h5f3 c7c6 b1d2 e8g8 d2e4 d6c7 c1g5 d8c8 f3g3 c8f5 c4d3 f5e6 a1e1 f7g6 e4c5 e6c8 d3g6 h7g6 g5d2 c8f5 g3h4 b7b6 c5e4 d5f4 d2f4 e5f4 e4g5 f8f6 h4h7 2',\n",
       " 'B d2d4 d7d5 g1f3 e7e6 e2e3 g8f6 f1d3 f8e7 b1d2 e8g8 a2a3 b8d7 b2b4 c7c5 b4c5 d8c7 c1b2 b7b6 c5b6 c7b6 a1b1 b6c7 e1g1 a8b8 c2c4 c8a6 d1e2 d7b6 c4c5 a6d3 e2d3 b6a4 b2a1 c7a5 f3e5 a5c7 d3a6 a4c5 d4c5 c7c5 d2f3 f6e4 e5d7 c5c8 b1b8 c8a6 d7f8 e7f8 f1c1 a6e2 b8b2 e2a6 f3d4 a6a3 b2b8 a3c1 1',\n",
       " 'B e2e4 c7c5 g1f3 g7g6 d2d4 c5d4 f3d4 f8g7 c2c4 g8f6 b1c3 b8c6 c1e3 e7e6 f1e2 e8g8 d1d2 d7d5 c4d5 e6d5 e4d5 f6d5 c3d5 d8d5 e1c1 d5a2 h2h4 a2a1 c1c2 c8f5 e2d3 a1a4 d4b3 c6b4 1',\n",
       " 'B e2e4 c7c5 g1f3 d7d6 d2d4 c5d4 f3d4 g8f6 f2f3 a7a6 c2c4 b7b6 b1c3 c8b7 c1e3 e7e6 d1d2 h7h5 f1e2 b8d7 e1g1 a8c8 a1c1 d8c7 f1d1 f8e7 g2g3 d7e5 b2b3 h5h4 g3g4 e5g6 h2h3 c7b8 d2e1 f6d7 e1f2 b7a8 f3f4 d7c5 e2f3 e6e5 f4e5 d6e5 d4f5 g6f4 e3f4 e5f4 f5g7 e8f8 g7f5 e7f6 c3d5 f6e5 d1d2 f7f6 c1d1 h8h7 f2e2 c5e6 b3b4 e6g5 g1g2 c8d8 d2d3 h7d7 e2d2 b6b5 c4c5 a8c6 d2c2 f8f7 d5b6 d7d3 d1d3 d8d3 c2d3 b8e8 b6d5 e8e6 a2a3 e5b2 d3c2 c6d5 e4d5 e6e5 c5c6 g5f3 g2f3 b2d4 c2e4 d4b6 e4e5 f6e5 f3e4 2',\n",
       " 'B g1f3 d7d5 d2d4 e7e6 g2g3 g8f6 f1g2 b7b6 e1g1 c8b7 f1e1 f8e7 c2c4 e8g8 b1c3 d5c4 e2e4 b8d7 e4e5 f6d5 c3e4 c7c5 e4g5 c5d4 h2h4 h7h6 g5h3 d4d3 g3g4 b6b5 g4g5 h6g5 f3g5 d8a5 c1d2 b5b4 d1h5 d5f6 e5f6 d7f6 h5d1 b7g2 g1g2 c4c3 d2e3 d3d2 b2c3 d2e1q d1e1 b4c3 e3d4 a5a3 e1c3 a3c3 d4c3 f8c8 c3d4 c8c2 a1b1 c2a2 b1b7 f6d5 h3g1 a7a5 g1f3 a5a4 f3e5 f7f6 e5g6 e6e5 g6e7 d5e7 d4e3 e7f5 g5e6 f5e3 g2f3 e3f5 f3e4 f5d6 e4f3 d6b7 1',\n",
       " 'B e2e4 e7e5 g1f3 b8c6 b1c3 g8f6 d2d3 f8c5 c1e3 c5d4 f1e2 d7d6 a1b1 h7h6 c3d5 d4e3 f2e3 g7g5 d3d4 e5d4 f3d4 c6e5 d5f6 d8f6 d4f5 c8f5 e1g1 e5g4 e4f5 g4e3 d1d3 e3f1 b1f1 e8c8 e2f3 f6b2 d3e3 c8b8 e3e4 h6h5 h2h3 h8e8 e4d5 g5g4 h3g4 h5g4 f3g4 b2c2 f5f6 e8e5 d5f7 c2c5 g1h1 d8h8 g4h3 e5h5 f7e6 c5c6 f1f3 h5e5 e6g4 a7a6 f6f7 c6c1 h1h2 e5e1 f7f8q h8f8 f3f8 b8a7 g4d4 b7b6 f8f7 e1h1 h2g3 c1e1 d4f2 e1e5 f2f4 e5e1 g3g4 e1e6 g4g5 a7b7 h3e6 2',\n",
       " 'B e2e4 e7e5 g1f3 b8c6 b2b3 f8c5 c1b2 d7d6 h2h3 g8f6 b1c3 e8g8 c3a4 f6e4 d2d3 e4f2 d1e2 f2h1 a4c5 d6c5 e1c1 h1g3 e2f2 g3f1 d1f1 d8e7 f1e1 f7f6 d3d4 c5d4 f3d4 e7c5 f2g3 c6d4 g3c3 c5d6 g2g4 c8e6 c3g3 f8d8 g4g5 d4e2 1',\n",
       " 'B e2e4 b7b6 d2d4 c8b7 f1d3 e7e6 f2f4 d7d6 g1f3 b8d7 e1g1 f8e7 f4f5 e6f5 e4f5 f7f6 f3h4 c7c6 d1h5 e8f8 h4g6 h7g6 h5h8 g6g5 h8h5 d8e8 h5e8 a8e8 b1c3 g8h6 c1d2 h6g4 h2h3 g4h6 a1e1 f8f7 c3e4 h6f5 e4g5 f7g8 d3f5 d7f8 g5e6 b7c8 e6f8 c8f5 f1f5 g8f8 f5f2 f8f7 f2e2 d6d5 d2b4 c6c5 d4c5 b6c5 b4c5 e7c5 g1f1 e8e2 e1e2 d5d4 g2g4 g7g5 e2d2 f7e6 f1e2 e6e5 e2d3 c5d6 d3c4 d6c7 d2d4 c7b6 d4d3 e5e4 a2a4 f6f5 g4f5 e4f5 c4d5 f5g6 d5e6 g6h5 e6f5 h5h4 b2b4 b6f2 c2c4 f2g3 c4c5 a7a6 d3g3 h4g3 f5g5 2',\n",
       " 'B e2e4 d7d5 e4d5 d8d5 b1c3 d5a5 d2d4 c7c6 c1d2 c8f5 g1f3 e7e6 c3e4 a5c7 e4g3 f5g6 c2c3 g8f6 f1e2 b8d7 e1g1 f8d6 h2h3 d6g3 f2g3 c7g3 d2e3 h7h5 e3f2 g3c7 f3g5 f6h7 g5h7 h8h7 e2d3 g6d3 d1d3 g7g6 a1e1 e8c8 f2h4 d8e8 h4g3 c7b6 b2b3 h7h8 g3f2 b6a5 a2a4 c8b8 f2g3 b8a8 g3f4 a7a6 f4d2 e6e5 f1f7 a5d5 c3c4 d5f7 d4e5 e8e5 e1e5 d7e5 d3d4 f7d7 d4e5 h8e8 e5f4 d7d3 b3b4 e8d8 d2e3 d3d1 g1h2 d1d6 c4c5 d6f4 e3f4 d8d4 f4c7 d4b4 a4a5 b4b5 c7b6 g6g5 h2g3 b5b3 g3h2 a8b8 h2g1 b8c8 g1f2 c8d7 g2g4 b3h3 g4h5 h3h5 f2g3 h5h8 g3g4 h8g8 b6a7 d7e6 a7b6 e6d5 b6a7 d5c4 a7b6 c4b5 g4g3 g5g4 g3g2 g4g3 g2g1 g3g2 1',\n",
       " 'B e2e4 c7c5 g1f3 b8c6 f1b5 e7e6 b5c6 b7c6 d2d3 f8e7 b1c3 g8f6 c1g5 e8g8 h2h3 d7d6 g2g4 c8b7 e4e5 d6e5 f3e5 f6d5 g5e7 d8e7 c3e4 a8d8 d1f3 f7f5 e4g3 f5g4 f3g4 f8f4 g4h5 d8f8 f2f3 d5e3 e1d2 e3f5 h1g1 f5g3 g1g3 f4f5 e5g6 h7g6 h5g6 e7f6 a1g1 f6g6 g3g6 f8f7 g6e6 f5f3 e6e3 f3f2 d2c3 a7a5 a2a3 b7a6 g1g5 a5a4 g5c5 a6b5 h3h4 f2f4 h4h5 f4h4 e3e5 h4h2 c3b4 f7f2 e5e8 g8h7 c2c4 f2b2 b4a5 b5c4 d3c4 b2a2 a5a4 a2a3 a4a3 h2h3 a3b4 2',\n",
       " 'B d2d4 f7f5 c2c4 g8f6 b1c3 g7g6 d1c2 f8g7 g1f3 d7d6 h2h3 e8g8 c1g5 b8c6 e1c1 h7h6 g5f6 g7f6 e2e4 e7e6 g2g4 f6g7 g4f5 e6f5 h1g1 g6g5 e4e5 d6e5 d4e5 d8e7 c3d5 e7f7 d1e1 c8e6 a2a3 a8d8 c1b1 a7a6 g1g5 h6g5 f3g5 f7g6 f2f4 d8d5 c4d5 e6d5 f1c4 d5c4 c2c4 g8h8 e1d1 g7h6 c4c5 f8g8 d1d7 h6g5 f4g5 f5f4 b1a2 g6e6 c5d5 e6d5 d7d5 g8e8 e5e6 e8e6 d5f5 e6e4 h3h4 h8g7 h4h5 c6d4 f5d5 f4f3 d5d7 g7f8 g5g6 e4g4 d7f7 f8g8 f7c7 f3f2 c7c1 g4g1 c1c8 g8g7 c8c7 g7h6 c7h7 h6g5 1',\n",
       " 'B e2e4 e7e5 g1f3 b8c6 b2b3 d7d6 c1b2 f7f5 e4f5 c8f5 f1b5 g8e7 f3h4 f5d7 b1c3 a7a6 b5c6 d7c6 d1e2 e7d5 e2h5 e8d7 h4g6 d8e8 h5h3 2',\n",
       " 'B e2e4 e7e5 g1f3 d7d6 f1c4 c8g4 h2h3 g4f3 d1f3 g8f6 d2d3 a7a6 b1c3 c7c6 a2a3 f8e7 e1g1 b8d7 c3a4 b7b5 c4f7 e8f7 a4c3 h8f8 c1g5 f7g8 g5f6 e7f6 f3d1 a6a5 f2f4 e5f4 f1f4 f6c3 b2c3 f8f4 1',\n",
       " 'B e2e4 e7e5 g1f3 b8c6 f1c4 h7h6 c2c3 g8f6 d1e2 d7d6 h2h3 c6a5 c4d3 c8e6 d3c2 f8e7 d2d3 e8g8 e1g1 f6h7 f1e1 f7f5 b2b4 a5c6 d3d4 e5d4 f3d4 c6d4 c3d4 e6d7 c1d2 f5f4 f2f3 e7h4 e1d1 h4g3 c2b3 g8h8 b1c3 c7c6 e2d3 d8h4 e4e5 d7h3 g2h3 h4h3 d3e2 d6e5 d4e5 a8c8 e2g2 h3f5 c3e4 h7g5 e4d6 f5e5 d6c8 f8c8 d1e1 e5d4 g1h1 c8d8 e1e2 d4a1 g2g1 a1f6 d2e1 g5f3 g1f1 f6h4 h1g2 f3e1 1',\n",
       " 'B e2e4 c7c5 g1f3 b8c6 d2d4 c5d4 f3d4 d7d6 f1b5 c8d7 d4c6 b7c6 b5d3 g8f6 c1g5 e7e6 b1d2 f8e7 a1b1 d8a5 g5f6 e7f6 a2a3 a8b8 e1g1 b8b2 b1b2 f6b2 d2c4 a5c3 c4d6 e8e7 d6c4 b2a3 c4a3 c3a3 d1g4 a3c3 f2f4 h8a8 e4e5 g7g6 g4g5 e7f8 g5f6 f8g8 f6e7 c3d4 g1h1 c6c5 h2h4 d7c6 d3e2 d4e3 e2f3 c6f3 f1f3 e3e1 h1h2 e1a5 h4h5 a5d8 e7c5 d8h4 h2g1 h4h5 c5c6 a8d8 c6c7 d8d1 f3f1 d1f1 g1f1 h5d1 f1f2 d1d4 f2g3 d4e3 g3g4 h7h5 g4g5 e3g3 g5f6 g3f4 f6e7 f4g5 e7e8 g5f4 c2c4 a7a5 1',\n",
       " 'B e2e4 e7e5 g1f3 g8f6 d2d4 b8c6 d4d5 c6a5 f1d3 c7c6 c2c4 c6d5 c4d5 d7d6 c1d2 h7h5 d1a4 d8d7 d3b5 f6e4 b5d7 c8d7 a4e4 b7b6 d2a5 b6a5 e1g1 e8c8 f1c1 c8b8 b2b4 f7f5 e4e1 e5e4 f3d4 a5a4 b4b5 d8c8 d4c6 d7c6 b5c6 a7a6 e1e2 b8a7 b1c3 a4a3 e2e3 a7b8 a1b1 b8c7 b1b7 c7d8 e3b6 d8e8 c6c7 f5f4 c3e4 h8h6 c1e1 h5h4 e4d6 e8d7 b6c6 2',\n",
       " 'B e2e4 c7c5 f1c4 d7d6 b1c3 b8c6 g1f3 g8f6 d2d3 g7g6 a2a3 f8g7 e1g1 a7a6 f3g5 e8g8 h2h3 b7b5 c4a2 c6e5 c3d5 c8b7 d5f6 g7f6 g5f3 a8c8 f3e5 f6e5 c1h6 e5g7 h6g7 g8g7 f2f4 c5c4 d1d2 d8b6 g1h1 c4d3 d2d3 e7e6 c2c3 b6c6 a1e1 g7g8 f1g1 f8d8 d3g3 d6d5 e4e5 d5d4 c3d4 d8d4 g3e3 c8d8 a2b1 d4d2 b1e4 c6c7 e4b7 c7b7 e3e4 b7e4 e1e4 d2b2 e4e1 d8d2 e1d1 d2c2 d1d8 g8g7 d8d6 b5b4 a3b4 b2b4 d6a6 b4f4 a6a5 f4f2 h1h2 c2e2 h2g3 f2f5 g1a1 e2e5 a5a7 e5e3 g3h2 e3e2 a1g1 h7h5 h2g3 e6e5 a7a3 e5e4 h3h4 e4e3 g3h3 f5e5 g2g3 e2f2 g1e1 e3e2 a3a2 e5e3 a2d2 f2f3 e1g1 e2e1q g1e1 e3e1 h3g2 f3f1 d2f2 f1f2 g2f2 e1a1 f2g2 a1a2 g2h3 a2a3 h3g2 g7f6 g2h3 f6f5 h3g2 f5g4 g2f2 a3g3 f2e2 g4h4 e2d2 f7f5 d2c2 f5f4 c2d2 f4f3 d2e1 f3f2 e1f2 g3a3 f2e2 0',\n",
       " 'B d2d4 d7d5 f2f4 g8f6 g1f3 e7e6 e2e3 f8d6 f1d3 b8d7 b1c3 c7c6 d1e2 b7b5 e1g1 a7a5 b2b3 d6b4 c1b2 b4c3 b2c3 e8g8 f3e5 c8b7 f4f5 d7e5 d4e5 f6d7 f5f6 g7g6 e2g4 g8h8 g4h4 b5b4 h4h6 f8g8 c3d4 c6c5 d4b2 d8f8 h6h3 b7a6 c2c4 d5c4 b3c4 d7b6 f1f4 b6a4 f4h4 h7h5 h4h5 2',\n",
       " 'B e2e4 g7g6 d2d4 h7h6 e4e5 e7e6 b1c3 d7d5 c1d2 c7c5 f1b5 c8d7 b5d7 d8d7 d2e3 c5c4 g1f3 b7b5 b2b3 b5b4 c3a4 c4c3 a4c5 d7b5 a2a4 b4a3 a1a3 f8c5 d4c5 b8c6 d1d3 b5d3 c2d3 c6b4 e1g1 b4d3 e3c1 g6g5 f3e1 d3c1 e1c2 c1d3 b3b4 g8e7 b4b5 d3c5 b5b6 e7c6 c2d4 c6d4 f1b1 e8g8 b6b7 f8b8 a3a5 c5b3 b7a8q b8a8 a5a3 c3c2 a3b3 d4b3 1',\n",
       " 'B e2e4 e7e5 g1f3 b8c6 f1c4 f8e7 c2c3 g8f6 d2d3 e8g8 e1g1 d7d5 c4d5 f6d5 e4d5 d8d5 c1e3 c8g4 b1d2 f7f5 c3c4 d5d3 e3g5 e7g5 f3g5 g4d1 a1d1 c6d4 f1e1 d4c6 d2f3 d3c4 f3e5 c6e5 e1e5 c4f4 g5f3 f8e8 e5e8 a8e8 d1d7 f4c1 f3e1 e8e1 1',\n",
       " 'B e2e4 e7e5 d1h5 b8c6 f1c4 g8h6 d2d3 g7g6 h5f3 d8e7 g1h3 f8g7 c1g5 e7f8 g5f6 d7d6 h3g5 c6d4 f3d1 g7f6 g5f3 c8g4 b1d2 f8e7 h2h3 g4e6 f3d4 e5d4 c4b5 e6d7 a2a4 d7b5 a4b5 e8g8 d2f3 d6d5 e1g1 d5e4 f1e1 e4e3 f2e3 e7c5 e3d4 f6d4 g1h1 d4g7 c2c4 g7b2 a1a2 b2g7 a2c2 h6f5 1',\n",
       " 'B h2h3 d7d5 a2a3 c7c5 e2e3 e7e6 d2d3 f7f5 c2c3 g8f6 f1e2 b8c6 b1d2 c8d7 d2f1 f8d6 e2h5 g7g6 h5e2 e8g8 h3h4 e6e5 g1h3 f6g4 h3g5 h7h6 g5f3 e5e4 d3e4 d5e4 f3h2 d6h2 f1h2 h6h5 g2g3 d8e7 d1d5 d7e6 d5c5 1',\n",
       " 'B e2e4 c7c6 b1c3 d7d5 e4d5 c6d5 d2d4 b8c6 g1f3 g8f6 f1b5 c8d7 e1g1 e7e6 a2a3 f8d6 c1g5 h7h6 g5h4 e8g8 b5c6 d7c6 f3e5 d8c7 h4f6 g7f6 d1g4 g8h7 e5f3 f8g8 g4h3 b7b5 c3e2 b5b4 a3b4 c6b5 f1e1 c7c2 e2g3 c2g6 f3h4 g6g4 h3g4 g8g4 h4f3 d6b4 e1e3 g4g8 g3h5 b4e7 e3a3 e7a3 h5f6 h7g7 f6g8 a3d6 a1a5 a8c8 h2h3 c8c1 0',\n",
       " 'B e2e4 e7e5 g1f3 d7d6 f1c4 h7h6 b1c3 c7c6 d2d4 d8e7 d4e5 d6e5 e1g1 c8g4 d1d3 b8d7 d3e3 d7b6 b2b3 b6c4 b3c4 e7f6 a1b1 b7b6 c4c5 f8c5 e3e1 g4f3 1',\n",
       " 'B d2d4 d7d5 c2c4 e7e5 e2e3 e5d4 e3d4 g8f6 b1c3 f8e7 h2h3 e8g8 g1f3 c7c6 f1e2 d5c4 e2c4 b7b5 c4b3 b5b4 c3e2 a7a5 e1g1 a5a4 b3c2 c8a6 f1e1 a6e2 e1e2 f6d5 d1d3 g7g6 c1h6 f8e8 a1e1 d8d6 f3e5 e7f6 e5c4 e8e2 c4d6 e2e1 g1h2 b8d7 d6e4 f6g7 h6d2 e1a1 c2b1 a8b8 g2g3 b4b3 a2a3 b8e8 f2f4 d7f6 e4c5 a1b1 d3b1 e8e2 h2g1 e2d2 c5a4 d2d4 a4c5 d5e3 c5d3 e3c2 b1f1 f6d5 f1e2 d5e3 d3c5 d4d1 g1f2 g7d4 c5b3 e3f5 b3d4 d1d4 e2e8 g8g7 e8c6 d4d2 f2f1 f5g3 f1g1 c2e3 c6c3 g7h6 c3d2 e3f5 b2b4 g3e4 d2d7 e4d6 b4b5 d6c4 a3a4 f5d6 d7d8 h6g7 b5b6 d6b7 d8d4 2',\n",
       " 'B e2e4 c7c5 f1c4 e7e6 e4e5 d7d5 e5d6 f8d6 d2d3 g8f6 g1f3 e8g8 c1g5 b8c6 e1g1 b7b6 b1c3 c8b7 f1e1 a8c8 c3e4 d6b8 e4f6 g7f6 g5h6 f8e8 f3h4 d8d6 d1g4 g8h8 g4g7 2',\n",
       " 'B e2e4 e7e5 g1f3 b8c6 f1c4 h7h6 e1g1 g8f6 f1e1 f8c5 c2c3 e8g8 d2d4 e5d4 c3d4 c5b4 b1c3 d7d6 a2a3 b4c3 b2c3 c8g4 d1d3 d6d5 e4d5 f6d5 c4b3 f7f5 f3e5 f8e8 c1d2 c6e5 e1e5 e8e5 d4e5 g8h7 h2h3 d5c3 d3d8 a8d8 d2c3 g4e2 b3c2 g7g6 f2f4 c7c5 g1f2 e2d3 a1d1 c5c4 c2d3 2',\n",
       " 'B e2e4 e7e5 g1f3 b8c6 f1b5 a7a6 b5c6 d7c6 e1g1 f8d6 d2d4 e5d4 d1d4 d8f6 e4e5 c6c5 d4c3 d6e5 f3e5 g8e7 f1e1 e8g8 b1d2 e7d5 c3c5 c7c6 b2b3 f8e8 c1b2 f6e6 e5f3 e6d7 c5d4 f7f6 c2c4 d5c7 d4f4 c7e6 f4e3 e6c7 e3f4 c7e6 f4g3 g8f7 a1d1 d7c7 g3h4 h7h6 h4h5 f7f8 f3h4 c8d7 h5g6 e6f4 g6h7 f8f7 g2g3 f4h3 g1g2 c6c5 d2e4 c7c6 d1d5 h3g5 h7g6 f7g8 e4f6 g8f8 f6d7 f8g8 g6g7 2',\n",
       " 'B e2e4 e7e5 g1f3 b8c6 f1b5 a7a6 b5c6 d7c6 e1g1 c8g4 h2h3 h7h5 d2d4 g4f3 d1f3 e5d4 c2c3 c6c5 b2b4 d8f6 b4c5 f6f3 g2f3 f8c5 c1b2 d4d3 f1d1 a8d8 b1d2 g8e7 d2b3 c5b6 c3c4 e7f5 e4f5 c7c6 c4c5 b6c7 d1d2 c7f4 a1e1 e8f8 d2d1 f7f6 e1e4 f4c7 e4d4 f8f7 d1d3 d8d4 d3d4 h8c8 d4d7 f7g8 b3d4 c7a5 d4e6 c8e8 d7g7 g8h8 b2f6 e8e6 f6d4 2']"
      ]
     },
     "execution_count": 11,
     "metadata": {},
     "output_type": "execute_result"
    }
   ],
   "source": [
    "data\n"
   ]
  },
  {
   "cell_type": "code",
   "execution_count": 36,
   "id": "4ed77a65-88a5-4126-8b40-85c1afb14819",
   "metadata": {},
   "outputs": [
    {
     "data": {
      "text/plain": [
       "chess.pgn.Game"
      ]
     },
     "execution_count": 36,
     "metadata": {},
     "output_type": "execute_result"
    }
   ],
   "source": [
    "from chess import pgn\n",
    "pgn.Game"
   ]
  },
  {
   "cell_type": "code",
   "execution_count": 34,
   "id": "20e7dc05-d7d3-4774-808f-6d1eb26ba6a6",
   "metadata": {},
   "outputs": [
    {
     "name": "stdout",
     "output_type": "stream",
     "text": [
      "CPU times: user 18.2 s, sys: 0 ns, total: 18.2 s\n",
      "Wall time: 18.2 s\n"
     ]
    }
   ],
   "source": [
    "%%time \n",
    "fpath = '/static/chess/data/lichess_db_standard_rated_2014-11.pgn.bz2'\n",
    "\n",
    "games = []\n"
   ]
  },
  {
   "cell_type": "code",
   "execution_count": null,
   "id": "e5de772b-5625-4a02-861f-e1dfc0694f18",
   "metadata": {},
   "outputs": [],
   "source": []
  },
  {
   "cell_type": "code",
   "execution_count": 23,
   "id": "e9466dcf-b10d-42a5-a78a-522d7601fce6",
   "metadata": {},
   "outputs": [],
   "source": [
    "import numpy as np\n",
    "z = np.array(games)\n",
    "np.save('/tmp/test.npy',z)"
   ]
  },
  {
   "cell_type": "code",
   "execution_count": 30,
   "id": "3d7d07af-ca38-4948-bff0-c804254f3695",
   "metadata": {},
   "outputs": [
    {
     "data": {
      "text/plain": [
       "6"
      ]
     },
     "execution_count": 30,
     "metadata": {},
     "output_type": "execute_result"
    }
   ],
   "source": [
    "len(games)"
   ]
  },
  {
   "cell_type": "code",
   "execution_count": 33,
   "id": "ddaab9a9-5fea-4e99-8415-ccd52ec8b897",
   "metadata": {},
   "outputs": [
    {
     "data": {
      "text/plain": [
       "memmap([85, 77], dtype=uint8)"
      ]
     },
     "execution_count": 33,
     "metadata": {},
     "output_type": "execute_result"
    }
   ],
   "source": [
    "# np.memmap('/tmp/test.npy', )[2:4]"
   ]
  },
  {
   "cell_type": "code",
   "execution_count": 24,
   "id": "ebaab5d2-8190-45fe-88e2-0abfddc9ade4",
   "metadata": {},
   "outputs": [
    {
     "name": "stdout",
     "output_type": "stream",
     "text": [
      "-rw-rw-r-- 1 spock spock 6.0K Jun 27 16:08 /tmp/test.npy\n"
     ]
    }
   ],
   "source": [
    "!ls -alh /tmp/test.npy"
   ]
  },
  {
   "cell_type": "code",
   "execution_count": 6,
   "id": "bc092021-1de6-45bb-b5eb-97159d294448",
   "metadata": {},
   "outputs": [
    {
     "data": {
      "text/plain": [
       "'B d2d4 d7d5 c2c4 g8f6 e2e3 e7e6 c4d5 f6d5 e3e4 f8b4 c1d2 b4d2 d1d2 d5f6 b1c3 e8g8 g1f3 b8c6 f1e2 f8e8 e1g1 e6e5 d4d5 c6e7 f3e5 e7d5 e5f7 g8f7 e2c4 c7c6 e4d5 c6d5 c3d5 c8e6 f1d1 a8c8 b2b3 c8c5 d2b4 c5d5 c4d5 e6d5 a1c1 d8d7 b4f4 e8c8 c1c8 d7c8 d1c1 d5c6 a2a4 c8g4 f4c7 f7g6 g2g3 g4f3 c1c6 b7c6 c7a7 f3d1 g1g2 d1d5 g2g1 f6g4 h2h3 g4e5 a4a5 d5b3 a5a6 b3d1 g1g2 d1f3 g2f1 e5d3 a7e3 f3d1 f1g2 d3e1 g2h2 e1c2 e3e4 g6f7 a6a7 c2d4 e4f4 f7g6 f4d6 g6g5 h3h4 g5f5 d6f4 f5e6 a7a8q d4f3 h2g2 f3e1 g2h3 d1d5 a8e8 2'"
      ]
     },
     "execution_count": 6,
     "metadata": {},
     "output_type": "execute_result"
    }
   ],
   "source": [
    "game_str"
   ]
  },
  {
   "cell_type": "code",
   "execution_count": null,
   "id": "5ef2abd8-7cb2-46ba-962c-1ffc02488266",
   "metadata": {},
   "outputs": [],
   "source": [
    "from torch.io."
   ]
  },
  {
   "cell_type": "code",
   "execution_count": 5,
   "id": "402f7232-9c49-4453-8489-391cd25d4cbb",
   "metadata": {},
   "outputs": [
    {
     "data": {
      "text/plain": [
       "'B d2d4 d7d5 c2c4 g8f6 e2e3 e7e6 c4d5 f6d5 e3e4 f8b4 c1d2 b4d2 d1d2 d5f6 b1c3 e8g8 g1f3 b8c6 f1e2 f8e8 e1g1 e6e5 d4d5 c6e7 f3e5 e7d5 e5f7 g8f7 e2c4 c7c6 e4d5 c6d5 c3d5 c8e6 f1d1 a8c8 b2b3 c8c5 d2b4 c5d5 c4d5 e6d5 a1c1 d8d7 b4f4 e8c8 c1c8 d7c8 d1c1 d5c6 a2a4 c8g4 f4c7 f7g6 g2g3 g4f3 c1c6 b7c6 c7a7 f3d1 g1g2 d1d5 g2g1 f6g4 h2h3 g4e5 a4a5 d5b3 a5a6 b3d1 g1g2 d1f3 g2f1 e5d3 a7e3 f3d1 f1g2 d3e1 g2h2 e1c2 e3e4 g6f7 a6a7 c2d4 e4f4 f7g6 f4d6 g6g5 h3h4 g5f5 d6f4 f5e6 a7a8q d4f3 h2g2 f3e1 g2h3 d1d5 a8e8 2'"
      ]
     },
     "execution_count": 5,
     "metadata": {},
     "output_type": "execute_result"
    }
   ],
   "source": [
    "game_str"
   ]
  },
  {
   "cell_type": "code",
   "execution_count": 60,
   "id": "4e6bf3f9-1f93-4b86-bbe8-4dd8cb485acd",
   "metadata": {},
   "outputs": [
    {
     "data": {
      "text/plain": [
       "chess.pgn.Game"
      ]
     },
     "execution_count": 60,
     "metadata": {},
     "output_type": "execute_result"
    }
   ],
   "source": [
    "type(game)"
   ]
  },
  {
   "cell_type": "code",
   "execution_count": null,
   "id": "7c050738-a44f-4572-b5d0-a3765aa07797",
   "metadata": {},
   "outputs": [],
   "source": [
    "game.headres['resu]"
   ]
  },
  {
   "cell_type": "code",
   "execution_count": 57,
   "id": "f3b09ac5-4831-4da4-9761-4276a06c7f23",
   "metadata": {},
   "outputs": [
    {
     "data": {
      "text/plain": [
       "'B d2d4 d7d5 c2c4 g8f6 e2e3 e7e6 c4d5 f6d5 e3e4 f8b4 c1d2 b4d2 d1d2 d5f6 b1c3 e8g8 g1f3 b8c6 f1e2 f8e8 e1g1 e6e5 d4d5 c6e7 f3e5 e7d5 e5f7 g8f7 e2c4 c7c6 e4d5 c6d5 c3d5 c8e6 f1d1 a8c8 b2b3 c8c5 d2b4 c5d5 c4d5 e6d5 a1c1 d8d7 b4f4 e8c8 c1c8 d7c8 d1c1 d5c6 a2a4 c8g4 f4c7 f7g6 g2g3 g4f3 c1c6 b7c6 c7a7 f3d1 g1g2 d1d5 g2g1 f6g4 h2h3 g4e5 a4a5 d5b3 a5a6 b3d1 g1g2 d1f3 g2f1 e5d3 a7e3 f3d1 f1g2 d3e1 g2h2 e1c2 e3e4 g6f7 a6a7 c2d4 e4f4 f7g6 f4d6 g6g5 h3h4 g5f5 d6f4 f5e6 a7a8q d4f3 h2g2 f3e1 g2h3 d1d5 a8e8 2'"
      ]
     },
     "execution_count": 57,
     "metadata": {},
     "output_type": "execute_result"
    }
   ],
   "source": []
  },
  {
   "cell_type": "code",
   "execution_count": 56,
   "id": "a647d52f-0cb2-4261-b9c2-6bee6449d489",
   "metadata": {},
   "outputs": [
    {
     "data": {
      "text/plain": [
       "'1020+0'"
      ]
     },
     "execution_count": 56,
     "metadata": {},
     "output_type": "execute_result"
    }
   ],
   "source": [
    "game.headers['TimeControl']"
   ]
  },
  {
   "cell_type": "code",
   "execution_count": null,
   "id": "8999390d-ae87-4ed7-a00a-41e4303e5b69",
   "metadata": {},
   "outputs": [],
   "source": [
    "game.headers['TimeControl']"
   ]
  },
  {
   "cell_type": "code",
   "execution_count": 44,
   "id": "8a77ba48-7c59-4955-bd18-ea1c92d47789",
   "metadata": {},
   "outputs": [
    {
     "data": {
      "text/plain": [
       "<bound method Game.accept of <Game at 0x7f1256067fd0 ('cartgolf1' vs. 'Klevic', '????.??.??')>>"
      ]
     },
     "execution_count": 44,
     "metadata": {},
     "output_type": "execute_result"
    }
   ],
   "source": [
    "game.accept"
   ]
  },
  {
   "cell_type": "code",
   "execution_count": 49,
   "id": "9200ff38-1c5f-48d2-91fb-ce36bd165077",
   "metadata": {},
   "outputs": [
    {
     "data": {
      "text/plain": [
       "<ChildNode at 0x7f1255bf9370 (1. d4 ...)>"
      ]
     },
     "execution_count": 49,
     "metadata": {},
     "output_type": "execute_result"
    }
   ],
   "source": [
    "game.next()"
   ]
  },
  {
   "cell_type": "code",
   "execution_count": 50,
   "id": "3d5613fb-db71-4ad2-b4a5-665d5b6dcd80",
   "metadata": {},
   "outputs": [
    {
     "ename": "TypeError",
     "evalue": "'NoneType' object is not callable",
     "output_type": "error",
     "traceback": [
      "\u001b[0;31m---------------------------------------------------------------------------\u001b[0m",
      "\u001b[0;31mTypeError\u001b[0m                                 Traceback (most recent call last)",
      "Input \u001b[0;32mIn [50]\u001b[0m, in \u001b[0;36m<cell line: 1>\u001b[0;34m()\u001b[0m\n\u001b[0;32m----> 1\u001b[0m \u001b[43mgame\u001b[49m\u001b[38;5;241;43m.\u001b[39;49m\u001b[43mmove\u001b[49m\u001b[43m(\u001b[49m\u001b[43mgame\u001b[49m\u001b[38;5;241;43m.\u001b[39;49m\u001b[43mnext\u001b[49m\u001b[43m(\u001b[49m\u001b[43m)\u001b[49m\u001b[43m)\u001b[49m\n",
      "\u001b[0;31mTypeError\u001b[0m: 'NoneType' object is not callable"
     ]
    }
   ],
   "source": [
    "game."
   ]
  },
  {
   "cell_type": "code",
   "execution_count": 51,
   "id": "dad267dd-37d2-4d08-a4de-da8d0336840f",
   "metadata": {},
   "outputs": [
    {
     "data": {
      "image/svg+xml": [
       "<svg xmlns=\"http://www.w3.org/2000/svg\" xmlns:xlink=\"http://www.w3.org/1999/xlink\" version=\"1.2\" baseProfile=\"tiny\" viewBox=\"0 0 390 390\" width=\"390\" height=\"390\"><desc><pre>r n b q k b n r\n",
       "p p p p p p p p\n",
       ". . . . . . . .\n",
       ". . . . . . . .\n",
       ". . . . . . . .\n",
       ". . . . . . . .\n",
       "P P P P P P P P\n",
       "R N B Q K B N R</pre></desc><defs><g id=\"white-pawn\" class=\"white pawn\"><path d=\"M22.5 9c-2.21 0-4 1.79-4 4 0 .89.29 1.71.78 2.38C17.33 16.5 16 18.59 16 21c0 2.03.94 3.84 2.41 5.03-3 1.06-7.41 5.55-7.41 13.47h23c0-7.92-4.41-12.41-7.41-13.47 1.47-1.19 2.41-3 2.41-5.03 0-2.41-1.33-4.5-3.28-5.62.49-.67.78-1.49.78-2.38 0-2.21-1.79-4-4-4z\" fill=\"#fff\" stroke=\"#000\" stroke-width=\"1.5\" stroke-linecap=\"round\" /></g><g id=\"white-knight\" class=\"white knight\" fill=\"none\" fill-rule=\"evenodd\" stroke=\"#000\" stroke-width=\"1.5\" stroke-linecap=\"round\" stroke-linejoin=\"round\"><path d=\"M 22,10 C 32.5,11 38.5,18 38,39 L 15,39 C 15,30 25,32.5 23,18\" style=\"fill:#ffffff; stroke:#000000;\" /><path d=\"M 24,18 C 24.38,20.91 18.45,25.37 16,27 C 13,29 13.18,31.34 11,31 C 9.958,30.06 12.41,27.96 11,28 C 10,28 11.19,29.23 10,30 C 9,30 5.997,31 6,26 C 6,24 12,14 12,14 C 12,14 13.89,12.1 14,10.5 C 13.27,9.506 13.5,8.5 13.5,7.5 C 14.5,6.5 16.5,10 16.5,10 L 18.5,10 C 18.5,10 19.28,8.008 21,7 C 22,7 22,10 22,10\" style=\"fill:#ffffff; stroke:#000000;\" /><path d=\"M 9.5 25.5 A 0.5 0.5 0 1 1 8.5,25.5 A 0.5 0.5 0 1 1 9.5 25.5 z\" style=\"fill:#000000; stroke:#000000;\" /><path d=\"M 15 15.5 A 0.5 1.5 0 1 1 14,15.5 A 0.5 1.5 0 1 1 15 15.5 z\" transform=\"matrix(0.866,0.5,-0.5,0.866,9.693,-5.173)\" style=\"fill:#000000; stroke:#000000;\" /></g><g id=\"white-bishop\" class=\"white bishop\" fill=\"none\" fill-rule=\"evenodd\" stroke=\"#000\" stroke-width=\"1.5\" stroke-linecap=\"round\" stroke-linejoin=\"round\"><g fill=\"#fff\" stroke-linecap=\"butt\"><path d=\"M9 36c3.39-.97 10.11.43 13.5-2 3.39 2.43 10.11 1.03 13.5 2 0 0 1.65.54 3 2-.68.97-1.65.99-3 .5-3.39-.97-10.11.46-13.5-1-3.39 1.46-10.11.03-13.5 1-1.354.49-2.323.47-3-.5 1.354-1.94 3-2 3-2zM15 32c2.5 2.5 12.5 2.5 15 0 .5-1.5 0-2 0-2 0-2.5-2.5-4-2.5-4 5.5-1.5 6-11.5-5-15.5-11 4-10.5 14-5 15.5 0 0-2.5 1.5-2.5 4 0 0-.5.5 0 2zM25 8a2.5 2.5 0 1 1-5 0 2.5 2.5 0 1 1 5 0z\" /></g><path d=\"M17.5 26h10M15 30h15m-7.5-14.5v5M20 18h5\" stroke-linejoin=\"miter\" /></g><g id=\"white-rook\" class=\"white rook\" fill=\"#fff\" fill-rule=\"evenodd\" stroke=\"#000\" stroke-width=\"1.5\" stroke-linecap=\"round\" stroke-linejoin=\"round\"><path d=\"M9 39h27v-3H9v3zM12 36v-4h21v4H12zM11 14V9h4v2h5V9h5v2h5V9h4v5\" stroke-linecap=\"butt\" /><path d=\"M34 14l-3 3H14l-3-3\" /><path d=\"M31 17v12.5H14V17\" stroke-linecap=\"butt\" stroke-linejoin=\"miter\" /><path d=\"M31 29.5l1.5 2.5h-20l1.5-2.5\" /><path d=\"M11 14h23\" fill=\"none\" stroke-linejoin=\"miter\" /></g><g id=\"white-queen\" class=\"white queen\" fill=\"#fff\" fill-rule=\"evenodd\" stroke=\"#000\" stroke-width=\"1.5\" stroke-linecap=\"round\" stroke-linejoin=\"round\"><path d=\"M8 12a2 2 0 1 1-4 0 2 2 0 1 1 4 0zM24.5 7.5a2 2 0 1 1-4 0 2 2 0 1 1 4 0zM41 12a2 2 0 1 1-4 0 2 2 0 1 1 4 0zM16 8.5a2 2 0 1 1-4 0 2 2 0 1 1 4 0zM33 9a2 2 0 1 1-4 0 2 2 0 1 1 4 0z\" /><path d=\"M9 26c8.5-1.5 21-1.5 27 0l2-12-7 11V11l-5.5 13.5-3-15-3 15-5.5-14V25L7 14l2 12zM9 26c0 2 1.5 2 2.5 4 1 1.5 1 1 .5 3.5-1.5 1-1.5 2.5-1.5 2.5-1.5 1.5.5 2.5.5 2.5 6.5 1 16.5 1 23 0 0 0 1.5-1 0-2.5 0 0 .5-1.5-1-2.5-.5-2.5-.5-2 .5-3.5 1-2 2.5-2 2.5-4-8.5-1.5-18.5-1.5-27 0z\" stroke-linecap=\"butt\" /><path d=\"M11.5 30c3.5-1 18.5-1 22 0M12 33.5c6-1 15-1 21 0\" fill=\"none\" /></g><g id=\"white-king\" class=\"white king\" fill=\"none\" fill-rule=\"evenodd\" stroke=\"#000\" stroke-width=\"1.5\" stroke-linecap=\"round\" stroke-linejoin=\"round\"><path d=\"M22.5 11.63V6M20 8h5\" stroke-linejoin=\"miter\" /><path d=\"M22.5 25s4.5-7.5 3-10.5c0 0-1-2.5-3-2.5s-3 2.5-3 2.5c-1.5 3 3 10.5 3 10.5\" fill=\"#fff\" stroke-linecap=\"butt\" stroke-linejoin=\"miter\" /><path d=\"M11.5 37c5.5 3.5 15.5 3.5 21 0v-7s9-4.5 6-10.5c-4-6.5-13.5-3.5-16 4V27v-3.5c-3.5-7.5-13-10.5-16-4-3 6 5 10 5 10V37z\" fill=\"#fff\" /><path d=\"M11.5 30c5.5-3 15.5-3 21 0m-21 3.5c5.5-3 15.5-3 21 0m-21 3.5c5.5-3 15.5-3 21 0\" /></g><g id=\"black-pawn\" class=\"black pawn\"><path d=\"M22.5 9c-2.21 0-4 1.79-4 4 0 .89.29 1.71.78 2.38C17.33 16.5 16 18.59 16 21c0 2.03.94 3.84 2.41 5.03-3 1.06-7.41 5.55-7.41 13.47h23c0-7.92-4.41-12.41-7.41-13.47 1.47-1.19 2.41-3 2.41-5.03 0-2.41-1.33-4.5-3.28-5.62.49-.67.78-1.49.78-2.38 0-2.21-1.79-4-4-4z\" fill=\"#000\" stroke=\"#000\" stroke-width=\"1.5\" stroke-linecap=\"round\" /></g><g id=\"black-knight\" class=\"black knight\" fill=\"none\" fill-rule=\"evenodd\" stroke=\"#000\" stroke-width=\"1.5\" stroke-linecap=\"round\" stroke-linejoin=\"round\"><path d=\"M 22,10 C 32.5,11 38.5,18 38,39 L 15,39 C 15,30 25,32.5 23,18\" style=\"fill:#000000; stroke:#000000;\" /><path d=\"M 24,18 C 24.38,20.91 18.45,25.37 16,27 C 13,29 13.18,31.34 11,31 C 9.958,30.06 12.41,27.96 11,28 C 10,28 11.19,29.23 10,30 C 9,30 5.997,31 6,26 C 6,24 12,14 12,14 C 12,14 13.89,12.1 14,10.5 C 13.27,9.506 13.5,8.5 13.5,7.5 C 14.5,6.5 16.5,10 16.5,10 L 18.5,10 C 18.5,10 19.28,8.008 21,7 C 22,7 22,10 22,10\" style=\"fill:#000000; stroke:#000000;\" /><path d=\"M 9.5 25.5 A 0.5 0.5 0 1 1 8.5,25.5 A 0.5 0.5 0 1 1 9.5 25.5 z\" style=\"fill:#ececec; stroke:#ececec;\" /><path d=\"M 15 15.5 A 0.5 1.5 0 1 1 14,15.5 A 0.5 1.5 0 1 1 15 15.5 z\" transform=\"matrix(0.866,0.5,-0.5,0.866,9.693,-5.173)\" style=\"fill:#ececec; stroke:#ececec;\" /><path d=\"M 24.55,10.4 L 24.1,11.85 L 24.6,12 C 27.75,13 30.25,14.49 32.5,18.75 C 34.75,23.01 35.75,29.06 35.25,39 L 35.2,39.5 L 37.45,39.5 L 37.5,39 C 38,28.94 36.62,22.15 34.25,17.66 C 31.88,13.17 28.46,11.02 25.06,10.5 L 24.55,10.4 z \" style=\"fill:#ececec; stroke:none;\" /></g><g id=\"black-bishop\" class=\"black bishop\" fill=\"none\" fill-rule=\"evenodd\" stroke=\"#000\" stroke-width=\"1.5\" stroke-linecap=\"round\" stroke-linejoin=\"round\"><path d=\"M9 36c3.39-.97 10.11.43 13.5-2 3.39 2.43 10.11 1.03 13.5 2 0 0 1.65.54 3 2-.68.97-1.65.99-3 .5-3.39-.97-10.11.46-13.5-1-3.39 1.46-10.11.03-13.5 1-1.354.49-2.323.47-3-.5 1.354-1.94 3-2 3-2zm6-4c2.5 2.5 12.5 2.5 15 0 .5-1.5 0-2 0-2 0-2.5-2.5-4-2.5-4 5.5-1.5 6-11.5-5-15.5-11 4-10.5 14-5 15.5 0 0-2.5 1.5-2.5 4 0 0-.5.5 0 2zM25 8a2.5 2.5 0 1 1-5 0 2.5 2.5 0 1 1 5 0z\" fill=\"#000\" stroke-linecap=\"butt\" /><path d=\"M17.5 26h10M15 30h15m-7.5-14.5v5M20 18h5\" stroke=\"#fff\" stroke-linejoin=\"miter\" /></g><g id=\"black-rook\" class=\"black rook\" fill=\"#000\" fill-rule=\"evenodd\" stroke=\"#000\" stroke-width=\"1.5\" stroke-linecap=\"round\" stroke-linejoin=\"round\"><path d=\"M9 39h27v-3H9v3zM12.5 32l1.5-2.5h17l1.5 2.5h-20zM12 36v-4h21v4H12z\" stroke-linecap=\"butt\" /><path d=\"M14 29.5v-13h17v13H14z\" stroke-linecap=\"butt\" stroke-linejoin=\"miter\" /><path d=\"M14 16.5L11 14h23l-3 2.5H14zM11 14V9h4v2h5V9h5v2h5V9h4v5H11z\" stroke-linecap=\"butt\" /><path d=\"M12 35.5h21M13 31.5h19M14 29.5h17M14 16.5h17M11 14h23\" fill=\"none\" stroke=\"#fff\" stroke-width=\"1\" stroke-linejoin=\"miter\" /></g><g id=\"black-queen\" class=\"black queen\" fill=\"#000\" fill-rule=\"evenodd\" stroke=\"#000\" stroke-width=\"1.5\" stroke-linecap=\"round\" stroke-linejoin=\"round\"><g fill=\"#000\" stroke=\"none\"><circle cx=\"6\" cy=\"12\" r=\"2.75\" /><circle cx=\"14\" cy=\"9\" r=\"2.75\" /><circle cx=\"22.5\" cy=\"8\" r=\"2.75\" /><circle cx=\"31\" cy=\"9\" r=\"2.75\" /><circle cx=\"39\" cy=\"12\" r=\"2.75\" /></g><path d=\"M9 26c8.5-1.5 21-1.5 27 0l2.5-12.5L31 25l-.3-14.1-5.2 13.6-3-14.5-3 14.5-5.2-13.6L14 25 6.5 13.5 9 26zM9 26c0 2 1.5 2 2.5 4 1 1.5 1 1 .5 3.5-1.5 1-1.5 2.5-1.5 2.5-1.5 1.5.5 2.5.5 2.5 6.5 1 16.5 1 23 0 0 0 1.5-1 0-2.5 0 0 .5-1.5-1-2.5-.5-2.5-.5-2 .5-3.5 1-2 2.5-2 2.5-4-8.5-1.5-18.5-1.5-27 0z\" stroke-linecap=\"butt\" /><path d=\"M11 38.5a35 35 1 0 0 23 0\" fill=\"none\" stroke-linecap=\"butt\" /><path d=\"M11 29a35 35 1 0 1 23 0M12.5 31.5h20M11.5 34.5a35 35 1 0 0 22 0M10.5 37.5a35 35 1 0 0 24 0\" fill=\"none\" stroke=\"#fff\" /></g><g id=\"black-king\" class=\"black king\" fill=\"none\" fill-rule=\"evenodd\" stroke=\"#000\" stroke-width=\"1.5\" stroke-linecap=\"round\" stroke-linejoin=\"round\"><path d=\"M22.5 11.63V6\" stroke-linejoin=\"miter\" /><path d=\"M22.5 25s4.5-7.5 3-10.5c0 0-1-2.5-3-2.5s-3 2.5-3 2.5c-1.5 3 3 10.5 3 10.5\" fill=\"#000\" stroke-linecap=\"butt\" stroke-linejoin=\"miter\" /><path d=\"M11.5 37c5.5 3.5 15.5 3.5 21 0v-7s9-4.5 6-10.5c-4-6.5-13.5-3.5-16 4V27v-3.5c-3.5-7.5-13-10.5-16-4-3 6 5 10 5 10V37z\" fill=\"#000\" /><path d=\"M20 8h5\" stroke-linejoin=\"miter\" /><path d=\"M32 29.5s8.5-4 6.03-9.65C34.15 14 25 18 22.5 24.5l.01 2.1-.01-2.1C20 18 9.906 14 6.997 19.85c-2.497 5.65 4.853 9 4.853 9M11.5 30c5.5-3 15.5-3 21 0m-21 3.5c5.5-3 15.5-3 21 0m-21 3.5c5.5-3 15.5-3 21 0\" stroke=\"#fff\" /></g></defs><rect x=\"0\" y=\"0\" width=\"390\" height=\"390\" fill=\"#212121\" /><g transform=\"translate(20, 0) scale(0.75, 0.75)\" fill=\"#e5e5e5\" stroke=\"#e5e5e5\"><path d=\"M23.328 10.016q-1.742 0-2.414.398-.672.398-.672 1.36 0 .765.5 1.218.508.445 1.375.445 1.196 0 1.914-.843.727-.852.727-2.258v-.32zm2.867-.594v4.992h-1.437v-1.328q-.492.797-1.227 1.18-.734.375-1.797.375-1.343 0-2.14-.75-.79-.758-.79-2.024 0-1.476.985-2.226.992-.75 2.953-.75h2.016V8.75q0-.992-.656-1.531-.649-.547-1.829-.547-.75 0-1.46.18-.711.18-1.368.539V6.062q.79-.304 1.532-.453.742-.156 1.445-.156 1.898 0 2.836.984.937.985.937 2.985z\" /></g><g transform=\"translate(20, 375) scale(0.75, 0.75)\" fill=\"#e5e5e5\" stroke=\"#e5e5e5\"><path d=\"M23.328 10.016q-1.742 0-2.414.398-.672.398-.672 1.36 0 .765.5 1.218.508.445 1.375.445 1.196 0 1.914-.843.727-.852.727-2.258v-.32zm2.867-.594v4.992h-1.437v-1.328q-.492.797-1.227 1.18-.734.375-1.797.375-1.343 0-2.14-.75-.79-.758-.79-2.024 0-1.476.985-2.226.992-.75 2.953-.75h2.016V8.75q0-.992-.656-1.531-.649-.547-1.829-.547-.75 0-1.46.18-.711.18-1.368.539V6.062q.79-.304 1.532-.453.742-.156 1.445-.156 1.898 0 2.836.984.937.985.937 2.985z\" /></g><g transform=\"translate(65, 0) scale(0.75, 0.75)\" fill=\"#e5e5e5\" stroke=\"#e5e5e5\"><path d=\"M24.922 10.047q0-1.586-.656-2.485-.649-.906-1.79-.906-1.14 0-1.796.906-.649.899-.649 2.485 0 1.586.649 2.492.656.898 1.797.898 1.14 0 1.789-.898.656-.906.656-2.492zm-4.89-3.055q.452-.781 1.14-1.156.695-.383 1.656-.383 1.594 0 2.586 1.266 1 1.265 1 3.328 0 2.062-1 3.328-.992 1.266-2.586 1.266-.96 0-1.656-.375-.688-.383-1.14-1.164v1.312h-1.446V2.258h1.445z\" /></g><g transform=\"translate(65, 375) scale(0.75, 0.75)\" fill=\"#e5e5e5\" stroke=\"#e5e5e5\"><path d=\"M24.922 10.047q0-1.586-.656-2.485-.649-.906-1.79-.906-1.14 0-1.796.906-.649.899-.649 2.485 0 1.586.649 2.492.656.898 1.797.898 1.14 0 1.789-.898.656-.906.656-2.492zm-4.89-3.055q.452-.781 1.14-1.156.695-.383 1.656-.383 1.594 0 2.586 1.266 1 1.265 1 3.328 0 2.062-1 3.328-.992 1.266-2.586 1.266-.96 0-1.656-.375-.688-.383-1.14-1.164v1.312h-1.446V2.258h1.445z\" /></g><g transform=\"translate(110, 0) scale(0.75, 0.75)\" fill=\"#e5e5e5\" stroke=\"#e5e5e5\"><path d=\"M25.96 6v1.344q-.608-.336-1.226-.5-.609-.172-1.234-.172-1.398 0-2.172.89-.773.883-.773 2.485 0 1.601.773 2.492.774.883 2.172.883.625 0 1.234-.164.618-.172 1.227-.508v1.328q-.602.281-1.25.422-.64.14-1.367.14-1.977 0-3.14-1.242-1.165-1.242-1.165-3.351 0-2.14 1.172-3.367 1.18-1.227 3.227-1.227.664 0 1.296.14.633.134 1.227.407z\" /></g><g transform=\"translate(110, 375) scale(0.75, 0.75)\" fill=\"#e5e5e5\" stroke=\"#e5e5e5\"><path d=\"M25.96 6v1.344q-.608-.336-1.226-.5-.609-.172-1.234-.172-1.398 0-2.172.89-.773.883-.773 2.485 0 1.601.773 2.492.774.883 2.172.883.625 0 1.234-.164.618-.172 1.227-.508v1.328q-.602.281-1.25.422-.64.14-1.367.14-1.977 0-3.14-1.242-1.165-1.242-1.165-3.351 0-2.14 1.172-3.367 1.18-1.227 3.227-1.227.664 0 1.296.14.633.134 1.227.407z\" /></g><g transform=\"translate(155, 0) scale(0.75, 0.75)\" fill=\"#e5e5e5\" stroke=\"#e5e5e5\"><path d=\"M24.973 6.992V2.258h1.437v12.156h-1.437v-1.312q-.453.78-1.149 1.164-.687.375-1.656.375-1.586 0-2.586-1.266-.992-1.266-.992-3.328 0-2.063.992-3.328 1-1.266 2.586-1.266.969 0 1.656.383.696.375 1.149 1.156zm-4.899 3.055q0 1.586.649 2.492.656.898 1.797.898 1.14 0 1.796-.898.657-.906.657-2.492 0-1.586-.657-2.485-.656-.906-1.796-.906-1.141 0-1.797.906-.649.899-.649 2.485z\" /></g><g transform=\"translate(155, 375) scale(0.75, 0.75)\" fill=\"#e5e5e5\" stroke=\"#e5e5e5\"><path d=\"M24.973 6.992V2.258h1.437v12.156h-1.437v-1.312q-.453.78-1.149 1.164-.687.375-1.656.375-1.586 0-2.586-1.266-.992-1.266-.992-3.328 0-2.063.992-3.328 1-1.266 2.586-1.266.969 0 1.656.383.696.375 1.149 1.156zm-4.899 3.055q0 1.586.649 2.492.656.898 1.797.898 1.14 0 1.796-.898.657-.906.657-2.492 0-1.586-.657-2.485-.656-.906-1.796-.906-1.141 0-1.797.906-.649.899-.649 2.485z\" /></g><g transform=\"translate(200, 0) scale(0.75, 0.75)\" fill=\"#e5e5e5\" stroke=\"#e5e5e5\"><path d=\"M26.555 9.68v.703h-6.61q.094 1.484.89 2.265.806.774 2.235.774.828 0 1.602-.203.781-.203 1.547-.61v1.36q-.774.328-1.586.5-.813.172-1.649.172-2.093 0-3.32-1.22-1.219-1.218-1.219-3.296 0-2.148 1.157-3.406 1.164-1.266 3.132-1.266 1.766 0 2.79 1.14 1.03 1.134 1.03 3.087zm-1.438-.422q-.015-1.18-.664-1.883-.64-.703-1.703-.703-1.203 0-1.93.68-.718.68-.828 1.914z\" /></g><g transform=\"translate(200, 375) scale(0.75, 0.75)\" fill=\"#e5e5e5\" stroke=\"#e5e5e5\"><path d=\"M26.555 9.68v.703h-6.61q.094 1.484.89 2.265.806.774 2.235.774.828 0 1.602-.203.781-.203 1.547-.61v1.36q-.774.328-1.586.5-.813.172-1.649.172-2.093 0-3.32-1.22-1.219-1.218-1.219-3.296 0-2.148 1.157-3.406 1.164-1.266 3.132-1.266 1.766 0 2.79 1.14 1.03 1.134 1.03 3.087zm-1.438-.422q-.015-1.18-.664-1.883-.64-.703-1.703-.703-1.203 0-1.93.68-.718.68-.828 1.914z\" /></g><g transform=\"translate(245, 0) scale(0.75, 0.75)\" fill=\"#e5e5e5\" stroke=\"#e5e5e5\"><path d=\"M25.285 2.258v1.195H23.91q-.773 0-1.078.313-.297.312-.297 1.125v.773h2.367v1.117h-2.367v7.633H21.09V6.781h-1.375V5.664h1.375v-.61q0-1.46.68-2.124.68-.672 2.156-.672z\" /></g><g transform=\"translate(245, 375) scale(0.75, 0.75)\" fill=\"#e5e5e5\" stroke=\"#e5e5e5\"><path d=\"M25.285 2.258v1.195H23.91q-.773 0-1.078.313-.297.312-.297 1.125v.773h2.367v1.117h-2.367v7.633H21.09V6.781h-1.375V5.664h1.375v-.61q0-1.46.68-2.124.68-.672 2.156-.672z\" /></g><g transform=\"translate(290, 0) scale(0.75, 0.75)\" fill=\"#e5e5e5\" stroke=\"#e5e5e5\"><path d=\"M24.973 9.937q0-1.562-.649-2.421-.64-.86-1.804-.86-1.157 0-1.805.86-.64.859-.64 2.421 0 1.555.64 2.415.648.859 1.805.859 1.164 0 1.804-.86.649-.859.649-2.414zm1.437 3.391q0 2.234-.992 3.32-.992 1.094-3.04 1.094-.757 0-1.429-.117-.672-.11-1.304-.344v-1.398q.632.344 1.25.508.617.164 1.257.164 1.414 0 2.118-.743.703-.734.703-2.226v-.711q-.446.773-1.141 1.156-.695.383-1.664.383-1.61 0-2.594-1.227-.984-1.226-.984-3.25 0-2.03.984-3.257.985-1.227 2.594-1.227.969 0 1.664.383t1.14 1.156V5.664h1.438z\" /></g><g transform=\"translate(290, 375) scale(0.75, 0.75)\" fill=\"#e5e5e5\" stroke=\"#e5e5e5\"><path d=\"M24.973 9.937q0-1.562-.649-2.421-.64-.86-1.804-.86-1.157 0-1.805.86-.64.859-.64 2.421 0 1.555.64 2.415.648.859 1.805.859 1.164 0 1.804-.86.649-.859.649-2.414zm1.437 3.391q0 2.234-.992 3.32-.992 1.094-3.04 1.094-.757 0-1.429-.117-.672-.11-1.304-.344v-1.398q.632.344 1.25.508.617.164 1.257.164 1.414 0 2.118-.743.703-.734.703-2.226v-.711q-.446.773-1.141 1.156-.695.383-1.664.383-1.61 0-2.594-1.227-.984-1.226-.984-3.25 0-2.03.984-3.257.985-1.227 2.594-1.227.969 0 1.664.383t1.14 1.156V5.664h1.438z\" /></g><g transform=\"translate(335, 0) scale(0.75, 0.75)\" fill=\"#e5e5e5\" stroke=\"#e5e5e5\"><path d=\"M26.164 9.133v5.281h-1.437V9.18q0-1.243-.485-1.86-.484-.617-1.453-.617-1.164 0-1.836.742-.672.742-.672 2.024v4.945h-1.445V2.258h1.445v4.765q.516-.789 1.211-1.18.703-.39 1.617-.39 1.508 0 2.282.938.773.93.773 2.742z\" /></g><g transform=\"translate(335, 375) scale(0.75, 0.75)\" fill=\"#e5e5e5\" stroke=\"#e5e5e5\"><path d=\"M26.164 9.133v5.281h-1.437V9.18q0-1.243-.485-1.86-.484-.617-1.453-.617-1.164 0-1.836.742-.672.742-.672 2.024v4.945h-1.445V2.258h1.445v4.765q.516-.789 1.211-1.18.703-.39 1.617-.39 1.508 0 2.282.938.773.93.773 2.742z\" /></g><g transform=\"translate(0, 335) scale(0.75, 0.75)\" fill=\"#e5e5e5\" stroke=\"#e5e5e5\"><path d=\"M6.754 26.996h2.578v-8.898l-2.805.562v-1.437l2.79-.563h1.578v10.336h2.578v1.328h-6.72z\" /></g><g transform=\"translate(375, 335) scale(0.75, 0.75)\" fill=\"#e5e5e5\" stroke=\"#e5e5e5\"><path d=\"M6.754 26.996h2.578v-8.898l-2.805.562v-1.437l2.79-.563h1.578v10.336h2.578v1.328h-6.72z\" /></g><g transform=\"translate(0, 290) scale(0.75, 0.75)\" fill=\"#e5e5e5\" stroke=\"#e5e5e5\"><path d=\"M8.195 26.996h5.508v1.328H6.297v-1.328q.898-.93 2.445-2.492 1.555-1.57 1.953-2.024.758-.851 1.055-1.437.305-.594.305-1.164 0-.93-.657-1.516-.648-.586-1.695-.586-.742 0-1.57.258-.82.258-1.758.781v-1.593q.953-.383 1.781-.578.828-.196 1.516-.196 1.812 0 2.89.906 1.079.907 1.079 2.422 0 .72-.274 1.368-.265.64-.976 1.515-.196.227-1.243 1.313-1.046 1.078-2.953 3.023z\" /></g><g transform=\"translate(375, 290) scale(0.75, 0.75)\" fill=\"#e5e5e5\" stroke=\"#e5e5e5\"><path d=\"M8.195 26.996h5.508v1.328H6.297v-1.328q.898-.93 2.445-2.492 1.555-1.57 1.953-2.024.758-.851 1.055-1.437.305-.594.305-1.164 0-.93-.657-1.516-.648-.586-1.695-.586-.742 0-1.57.258-.82.258-1.758.781v-1.593q.953-.383 1.781-.578.828-.196 1.516-.196 1.812 0 2.89.906 1.079.907 1.079 2.422 0 .72-.274 1.368-.265.64-.976 1.515-.196.227-1.243 1.313-1.046 1.078-2.953 3.023z\" /></g><g transform=\"translate(0, 245) scale(0.75, 0.75)\" fill=\"#e5e5e5\" stroke=\"#e5e5e5\"><path d=\"M11.434 22.035q1.132.242 1.765 1.008.64.766.64 1.89 0 1.727-1.187 2.672-1.187.946-3.375.946-.734 0-1.515-.149-.774-.14-1.602-.43V26.45q.656.383 1.438.578.78.196 1.632.196 1.485 0 2.258-.586.782-.586.782-1.703 0-1.032-.727-1.61-.719-.586-2.008-.586h-1.36v-1.297h1.423q1.164 0 1.78-.46.618-.47.618-1.344 0-.899-.64-1.375-.633-.485-1.82-.485-.65 0-1.391.141-.743.14-1.633.437V16.95q.898-.25 1.68-.375.788-.125 1.484-.125 1.797 0 2.844.82 1.046.813 1.046 2.204 0 .968-.554 1.64-.555.664-1.578.922z\" /></g><g transform=\"translate(375, 245) scale(0.75, 0.75)\" fill=\"#e5e5e5\" stroke=\"#e5e5e5\"><path d=\"M11.434 22.035q1.132.242 1.765 1.008.64.766.64 1.89 0 1.727-1.187 2.672-1.187.946-3.375.946-.734 0-1.515-.149-.774-.14-1.602-.43V26.45q.656.383 1.438.578.78.196 1.632.196 1.485 0 2.258-.586.782-.586.782-1.703 0-1.032-.727-1.61-.719-.586-2.008-.586h-1.36v-1.297h1.423q1.164 0 1.78-.46.618-.47.618-1.344 0-.899-.64-1.375-.633-.485-1.82-.485-.65 0-1.391.141-.743.14-1.633.437V16.95q.898-.25 1.68-.375.788-.125 1.484-.125 1.797 0 2.844.82 1.046.813 1.046 2.204 0 .968-.554 1.64-.555.664-1.578.922z\" /></g><g transform=\"translate(0, 200) scale(0.75, 0.75)\" fill=\"#e5e5e5\" stroke=\"#e5e5e5\"><path d=\"M11.016 18.035L7.03 24.262h3.985zm-.414-1.375h1.984v7.602h1.664v1.312h-1.664v2.75h-1.57v-2.75H5.75v-1.523z\" /></g><g transform=\"translate(375, 200) scale(0.75, 0.75)\" fill=\"#e5e5e5\" stroke=\"#e5e5e5\"><path d=\"M11.016 18.035L7.03 24.262h3.985zm-.414-1.375h1.984v7.602h1.664v1.312h-1.664v2.75h-1.57v-2.75H5.75v-1.523z\" /></g><g transform=\"translate(0, 155) scale(0.75, 0.75)\" fill=\"#e5e5e5\" stroke=\"#e5e5e5\"><path d=\"M6.719 16.66h6.195v1.328h-4.75v2.86q.344-.118.688-.172.343-.063.687-.063 1.953 0 3.094 1.07 1.14 1.07 1.14 2.899 0 1.883-1.171 2.93-1.172 1.039-3.305 1.039-.735 0-1.5-.125-.758-.125-1.57-.375v-1.586q.703.383 1.453.57.75.188 1.586.188 1.351 0 2.14-.711.79-.711.79-1.93 0-1.219-.79-1.93-.789-.71-2.14-.71-.633 0-1.266.14-.625.14-1.281.438z\" /></g><g transform=\"translate(375, 155) scale(0.75, 0.75)\" fill=\"#e5e5e5\" stroke=\"#e5e5e5\"><path d=\"M6.719 16.66h6.195v1.328h-4.75v2.86q.344-.118.688-.172.343-.063.687-.063 1.953 0 3.094 1.07 1.14 1.07 1.14 2.899 0 1.883-1.171 2.93-1.172 1.039-3.305 1.039-.735 0-1.5-.125-.758-.125-1.57-.375v-1.586q.703.383 1.453.57.75.188 1.586.188 1.351 0 2.14-.711.79-.711.79-1.93 0-1.219-.79-1.93-.789-.71-2.14-.71-.633 0-1.266.14-.625.14-1.281.438z\" /></g><g transform=\"translate(0, 110) scale(0.75, 0.75)\" fill=\"#e5e5e5\" stroke=\"#e5e5e5\"><path d=\"M10.137 21.863q-1.063 0-1.688.727-.617.726-.617 1.992 0 1.258.617 1.992.625.727 1.688.727 1.062 0 1.68-.727.624-.734.624-1.992 0-1.266-.625-1.992-.617-.727-1.68-.727zm3.133-4.945v1.437q-.594-.28-1.204-.43-.601-.148-1.195-.148-1.562 0-2.39 1.055-.82 1.055-.938 3.188.46-.68 1.156-1.04.696-.367 1.531-.367 1.758 0 2.774 1.07 1.023 1.063 1.023 2.899 0 1.797-1.062 2.883-1.063 1.086-2.828 1.086-2.024 0-3.094-1.547-1.07-1.555-1.07-4.5 0-2.766 1.312-4.406 1.313-1.649 3.524-1.649.593 0 1.195.117.61.118 1.266.352z\" /></g><g transform=\"translate(375, 110) scale(0.75, 0.75)\" fill=\"#e5e5e5\" stroke=\"#e5e5e5\"><path d=\"M10.137 21.863q-1.063 0-1.688.727-.617.726-.617 1.992 0 1.258.617 1.992.625.727 1.688.727 1.062 0 1.68-.727.624-.734.624-1.992 0-1.266-.625-1.992-.617-.727-1.68-.727zm3.133-4.945v1.437q-.594-.28-1.204-.43-.601-.148-1.195-.148-1.562 0-2.39 1.055-.82 1.055-.938 3.188.46-.68 1.156-1.04.696-.367 1.531-.367 1.758 0 2.774 1.07 1.023 1.063 1.023 2.899 0 1.797-1.062 2.883-1.063 1.086-2.828 1.086-2.024 0-3.094-1.547-1.07-1.555-1.07-4.5 0-2.766 1.312-4.406 1.313-1.649 3.524-1.649.593 0 1.195.117.61.118 1.266.352z\" /></g><g transform=\"translate(0, 65) scale(0.75, 0.75)\" fill=\"#e5e5e5\" stroke=\"#e5e5e5\"><path d=\"M6.25 16.66h7.5v.672L9.516 28.324H7.867l3.985-10.336H6.25z\" /></g><g transform=\"translate(375, 65) scale(0.75, 0.75)\" fill=\"#e5e5e5\" stroke=\"#e5e5e5\"><path d=\"M6.25 16.66h7.5v.672L9.516 28.324H7.867l3.985-10.336H6.25z\" /></g><g transform=\"translate(0, 20) scale(0.75, 0.75)\" fill=\"#e5e5e5\" stroke=\"#e5e5e5\"><path d=\"M10 22.785q-1.125 0-1.773.602-.641.601-.641 1.656t.64 1.656q.649.602 1.774.602t1.773-.602q.649-.61.649-1.656 0-1.055-.649-1.656-.64-.602-1.773-.602zm-1.578-.672q-1.016-.25-1.586-.945-.563-.695-.563-1.695 0-1.399.993-2.211 1-.813 2.734-.813 1.742 0 2.734.813.993.812.993 2.21 0 1-.57 1.696-.563.695-1.571.945 1.14.266 1.773 1.04.641.773.641 1.89 0 1.695-1.04 2.602-1.03.906-2.96.906t-2.969-.906Q6 26.738 6 25.043q0-1.117.64-1.89.641-.774 1.782-1.04zm-.578-2.492q0 .906.562 1.414.57.508 1.594.508 1.016 0 1.586-.508.578-.508.578-1.414 0-.906-.578-1.414-.57-.508-1.586-.508-1.023 0-1.594.508-.562.508-.562 1.414z\" /></g><g transform=\"translate(375, 20) scale(0.75, 0.75)\" fill=\"#e5e5e5\" stroke=\"#e5e5e5\"><path d=\"M10 22.785q-1.125 0-1.773.602-.641.601-.641 1.656t.64 1.656q.649.602 1.774.602t1.773-.602q.649-.61.649-1.656 0-1.055-.649-1.656-.64-.602-1.773-.602zm-1.578-.672q-1.016-.25-1.586-.945-.563-.695-.563-1.695 0-1.399.993-2.211 1-.813 2.734-.813 1.742 0 2.734.813.993.812.993 2.21 0 1-.57 1.696-.563.695-1.571.945 1.14.266 1.773 1.04.641.773.641 1.89 0 1.695-1.04 2.602-1.03.906-2.96.906t-2.969-.906Q6 26.738 6 25.043q0-1.117.64-1.89.641-.774 1.782-1.04zm-.578-2.492q0 .906.562 1.414.57.508 1.594.508 1.016 0 1.586-.508.578-.508.578-1.414 0-.906-.578-1.414-.57-.508-1.586-.508-1.023 0-1.594.508-.562.508-.562 1.414z\" /></g><rect x=\"15\" y=\"330\" width=\"45\" height=\"45\" class=\"square dark a1\" stroke=\"none\" fill=\"#d18b47\" /><rect x=\"60\" y=\"330\" width=\"45\" height=\"45\" class=\"square light b1\" stroke=\"none\" fill=\"#ffce9e\" /><rect x=\"105\" y=\"330\" width=\"45\" height=\"45\" class=\"square dark c1\" stroke=\"none\" fill=\"#d18b47\" /><rect x=\"150\" y=\"330\" width=\"45\" height=\"45\" class=\"square light d1\" stroke=\"none\" fill=\"#ffce9e\" /><rect x=\"195\" y=\"330\" width=\"45\" height=\"45\" class=\"square dark e1\" stroke=\"none\" fill=\"#d18b47\" /><rect x=\"240\" y=\"330\" width=\"45\" height=\"45\" class=\"square light f1\" stroke=\"none\" fill=\"#ffce9e\" /><rect x=\"285\" y=\"330\" width=\"45\" height=\"45\" class=\"square dark g1\" stroke=\"none\" fill=\"#d18b47\" /><rect x=\"330\" y=\"330\" width=\"45\" height=\"45\" class=\"square light h1\" stroke=\"none\" fill=\"#ffce9e\" /><rect x=\"15\" y=\"285\" width=\"45\" height=\"45\" class=\"square light a2\" stroke=\"none\" fill=\"#ffce9e\" /><rect x=\"60\" y=\"285\" width=\"45\" height=\"45\" class=\"square dark b2\" stroke=\"none\" fill=\"#d18b47\" /><rect x=\"105\" y=\"285\" width=\"45\" height=\"45\" class=\"square light c2\" stroke=\"none\" fill=\"#ffce9e\" /><rect x=\"150\" y=\"285\" width=\"45\" height=\"45\" class=\"square dark d2\" stroke=\"none\" fill=\"#d18b47\" /><rect x=\"195\" y=\"285\" width=\"45\" height=\"45\" class=\"square light e2\" stroke=\"none\" fill=\"#ffce9e\" /><rect x=\"240\" y=\"285\" width=\"45\" height=\"45\" class=\"square dark f2\" stroke=\"none\" fill=\"#d18b47\" /><rect x=\"285\" y=\"285\" width=\"45\" height=\"45\" class=\"square light g2\" stroke=\"none\" fill=\"#ffce9e\" /><rect x=\"330\" y=\"285\" width=\"45\" height=\"45\" class=\"square dark h2\" stroke=\"none\" fill=\"#d18b47\" /><rect x=\"15\" y=\"240\" width=\"45\" height=\"45\" class=\"square dark a3\" stroke=\"none\" fill=\"#d18b47\" /><rect x=\"60\" y=\"240\" width=\"45\" height=\"45\" class=\"square light b3\" stroke=\"none\" fill=\"#ffce9e\" /><rect x=\"105\" y=\"240\" width=\"45\" height=\"45\" class=\"square dark c3\" stroke=\"none\" fill=\"#d18b47\" /><rect x=\"150\" y=\"240\" width=\"45\" height=\"45\" class=\"square light d3\" stroke=\"none\" fill=\"#ffce9e\" /><rect x=\"195\" y=\"240\" width=\"45\" height=\"45\" class=\"square dark e3\" stroke=\"none\" fill=\"#d18b47\" /><rect x=\"240\" y=\"240\" width=\"45\" height=\"45\" class=\"square light f3\" stroke=\"none\" fill=\"#ffce9e\" /><rect x=\"285\" y=\"240\" width=\"45\" height=\"45\" class=\"square dark g3\" stroke=\"none\" fill=\"#d18b47\" /><rect x=\"330\" y=\"240\" width=\"45\" height=\"45\" class=\"square light h3\" stroke=\"none\" fill=\"#ffce9e\" /><rect x=\"15\" y=\"195\" width=\"45\" height=\"45\" class=\"square light a4\" stroke=\"none\" fill=\"#ffce9e\" /><rect x=\"60\" y=\"195\" width=\"45\" height=\"45\" class=\"square dark b4\" stroke=\"none\" fill=\"#d18b47\" /><rect x=\"105\" y=\"195\" width=\"45\" height=\"45\" class=\"square light c4\" stroke=\"none\" fill=\"#ffce9e\" /><rect x=\"150\" y=\"195\" width=\"45\" height=\"45\" class=\"square dark d4\" stroke=\"none\" fill=\"#d18b47\" /><rect x=\"195\" y=\"195\" width=\"45\" height=\"45\" class=\"square light e4\" stroke=\"none\" fill=\"#ffce9e\" /><rect x=\"240\" y=\"195\" width=\"45\" height=\"45\" class=\"square dark f4\" stroke=\"none\" fill=\"#d18b47\" /><rect x=\"285\" y=\"195\" width=\"45\" height=\"45\" class=\"square light g4\" stroke=\"none\" fill=\"#ffce9e\" /><rect x=\"330\" y=\"195\" width=\"45\" height=\"45\" class=\"square dark h4\" stroke=\"none\" fill=\"#d18b47\" /><rect x=\"15\" y=\"150\" width=\"45\" height=\"45\" class=\"square dark a5\" stroke=\"none\" fill=\"#d18b47\" /><rect x=\"60\" y=\"150\" width=\"45\" height=\"45\" class=\"square light b5\" stroke=\"none\" fill=\"#ffce9e\" /><rect x=\"105\" y=\"150\" width=\"45\" height=\"45\" class=\"square dark c5\" stroke=\"none\" fill=\"#d18b47\" /><rect x=\"150\" y=\"150\" width=\"45\" height=\"45\" class=\"square light d5\" stroke=\"none\" fill=\"#ffce9e\" /><rect x=\"195\" y=\"150\" width=\"45\" height=\"45\" class=\"square dark e5\" stroke=\"none\" fill=\"#d18b47\" /><rect x=\"240\" y=\"150\" width=\"45\" height=\"45\" class=\"square light f5\" stroke=\"none\" fill=\"#ffce9e\" /><rect x=\"285\" y=\"150\" width=\"45\" height=\"45\" class=\"square dark g5\" stroke=\"none\" fill=\"#d18b47\" /><rect x=\"330\" y=\"150\" width=\"45\" height=\"45\" class=\"square light h5\" stroke=\"none\" fill=\"#ffce9e\" /><rect x=\"15\" y=\"105\" width=\"45\" height=\"45\" class=\"square light a6\" stroke=\"none\" fill=\"#ffce9e\" /><rect x=\"60\" y=\"105\" width=\"45\" height=\"45\" class=\"square dark b6\" stroke=\"none\" fill=\"#d18b47\" /><rect x=\"105\" y=\"105\" width=\"45\" height=\"45\" class=\"square light c6\" stroke=\"none\" fill=\"#ffce9e\" /><rect x=\"150\" y=\"105\" width=\"45\" height=\"45\" class=\"square dark d6\" stroke=\"none\" fill=\"#d18b47\" /><rect x=\"195\" y=\"105\" width=\"45\" height=\"45\" class=\"square light e6\" stroke=\"none\" fill=\"#ffce9e\" /><rect x=\"240\" y=\"105\" width=\"45\" height=\"45\" class=\"square dark f6\" stroke=\"none\" fill=\"#d18b47\" /><rect x=\"285\" y=\"105\" width=\"45\" height=\"45\" class=\"square light g6\" stroke=\"none\" fill=\"#ffce9e\" /><rect x=\"330\" y=\"105\" width=\"45\" height=\"45\" class=\"square dark h6\" stroke=\"none\" fill=\"#d18b47\" /><rect x=\"15\" y=\"60\" width=\"45\" height=\"45\" class=\"square dark a7\" stroke=\"none\" fill=\"#d18b47\" /><rect x=\"60\" y=\"60\" width=\"45\" height=\"45\" class=\"square light b7\" stroke=\"none\" fill=\"#ffce9e\" /><rect x=\"105\" y=\"60\" width=\"45\" height=\"45\" class=\"square dark c7\" stroke=\"none\" fill=\"#d18b47\" /><rect x=\"150\" y=\"60\" width=\"45\" height=\"45\" class=\"square light d7\" stroke=\"none\" fill=\"#ffce9e\" /><rect x=\"195\" y=\"60\" width=\"45\" height=\"45\" class=\"square dark e7\" stroke=\"none\" fill=\"#d18b47\" /><rect x=\"240\" y=\"60\" width=\"45\" height=\"45\" class=\"square light f7\" stroke=\"none\" fill=\"#ffce9e\" /><rect x=\"285\" y=\"60\" width=\"45\" height=\"45\" class=\"square dark g7\" stroke=\"none\" fill=\"#d18b47\" /><rect x=\"330\" y=\"60\" width=\"45\" height=\"45\" class=\"square light h7\" stroke=\"none\" fill=\"#ffce9e\" /><rect x=\"15\" y=\"15\" width=\"45\" height=\"45\" class=\"square light a8\" stroke=\"none\" fill=\"#ffce9e\" /><rect x=\"60\" y=\"15\" width=\"45\" height=\"45\" class=\"square dark b8\" stroke=\"none\" fill=\"#d18b47\" /><rect x=\"105\" y=\"15\" width=\"45\" height=\"45\" class=\"square light c8\" stroke=\"none\" fill=\"#ffce9e\" /><rect x=\"150\" y=\"15\" width=\"45\" height=\"45\" class=\"square dark d8\" stroke=\"none\" fill=\"#d18b47\" /><rect x=\"195\" y=\"15\" width=\"45\" height=\"45\" class=\"square light e8\" stroke=\"none\" fill=\"#ffce9e\" /><rect x=\"240\" y=\"15\" width=\"45\" height=\"45\" class=\"square dark f8\" stroke=\"none\" fill=\"#d18b47\" /><rect x=\"285\" y=\"15\" width=\"45\" height=\"45\" class=\"square light g8\" stroke=\"none\" fill=\"#ffce9e\" /><rect x=\"330\" y=\"15\" width=\"45\" height=\"45\" class=\"square dark h8\" stroke=\"none\" fill=\"#d18b47\" /><use href=\"#white-rook\" xlink:href=\"#white-rook\" transform=\"translate(15, 330)\" /><use href=\"#white-knight\" xlink:href=\"#white-knight\" transform=\"translate(60, 330)\" /><use href=\"#white-bishop\" xlink:href=\"#white-bishop\" transform=\"translate(105, 330)\" /><use href=\"#white-queen\" xlink:href=\"#white-queen\" transform=\"translate(150, 330)\" /><use href=\"#white-king\" xlink:href=\"#white-king\" transform=\"translate(195, 330)\" /><use href=\"#white-bishop\" xlink:href=\"#white-bishop\" transform=\"translate(240, 330)\" /><use href=\"#white-knight\" xlink:href=\"#white-knight\" transform=\"translate(285, 330)\" /><use href=\"#white-rook\" xlink:href=\"#white-rook\" transform=\"translate(330, 330)\" /><use href=\"#white-pawn\" xlink:href=\"#white-pawn\" transform=\"translate(15, 285)\" /><use href=\"#white-pawn\" xlink:href=\"#white-pawn\" transform=\"translate(60, 285)\" /><use href=\"#white-pawn\" xlink:href=\"#white-pawn\" transform=\"translate(105, 285)\" /><use href=\"#white-pawn\" xlink:href=\"#white-pawn\" transform=\"translate(150, 285)\" /><use href=\"#white-pawn\" xlink:href=\"#white-pawn\" transform=\"translate(195, 285)\" /><use href=\"#white-pawn\" xlink:href=\"#white-pawn\" transform=\"translate(240, 285)\" /><use href=\"#white-pawn\" xlink:href=\"#white-pawn\" transform=\"translate(285, 285)\" /><use href=\"#white-pawn\" xlink:href=\"#white-pawn\" transform=\"translate(330, 285)\" /><use href=\"#black-pawn\" xlink:href=\"#black-pawn\" transform=\"translate(15, 60)\" /><use href=\"#black-pawn\" xlink:href=\"#black-pawn\" transform=\"translate(60, 60)\" /><use href=\"#black-pawn\" xlink:href=\"#black-pawn\" transform=\"translate(105, 60)\" /><use href=\"#black-pawn\" xlink:href=\"#black-pawn\" transform=\"translate(150, 60)\" /><use href=\"#black-pawn\" xlink:href=\"#black-pawn\" transform=\"translate(195, 60)\" /><use href=\"#black-pawn\" xlink:href=\"#black-pawn\" transform=\"translate(240, 60)\" /><use href=\"#black-pawn\" xlink:href=\"#black-pawn\" transform=\"translate(285, 60)\" /><use href=\"#black-pawn\" xlink:href=\"#black-pawn\" transform=\"translate(330, 60)\" /><use href=\"#black-rook\" xlink:href=\"#black-rook\" transform=\"translate(15, 15)\" /><use href=\"#black-knight\" xlink:href=\"#black-knight\" transform=\"translate(60, 15)\" /><use href=\"#black-bishop\" xlink:href=\"#black-bishop\" transform=\"translate(105, 15)\" /><use href=\"#black-queen\" xlink:href=\"#black-queen\" transform=\"translate(150, 15)\" /><use href=\"#black-king\" xlink:href=\"#black-king\" transform=\"translate(195, 15)\" /><use href=\"#black-bishop\" xlink:href=\"#black-bishop\" transform=\"translate(240, 15)\" /><use href=\"#black-knight\" xlink:href=\"#black-knight\" transform=\"translate(285, 15)\" /><use href=\"#black-rook\" xlink:href=\"#black-rook\" transform=\"translate(330, 15)\" /></svg>"
      ],
      "text/plain": [
       "Board('rnbqkbnr/pppppppp/8/8/8/8/PPPPPPPP/RNBQKBNR w KQkq - 0 1')"
      ]
     },
     "execution_count": 51,
     "metadata": {},
     "output_type": "execute_result"
    }
   ],
   "source": [
    "game.board()"
   ]
  },
  {
   "cell_type": "code",
   "execution_count": 29,
   "id": "eb498fdd-3eac-48f3-b0d0-7ab10d2becce",
   "metadata": {},
   "outputs": [
    {
     "name": "stdout",
     "output_type": "stream",
     "text": [
      "> \u001b[0;32m/home/spock/projects/ChessBot/.venv/lib/python3.8/site-packages/chess/pgn.py\u001b[0m(1502)\u001b[0;36mread_game\u001b[0;34m()\u001b[0m\n",
      "\u001b[0;32m   1500 \u001b[0;31m\u001b[0;34m\u001b[0m\u001b[0m\n",
      "\u001b[0m\u001b[0;32m   1501 \u001b[0;31m    \u001b[0;31m# Ignore leading empty lines and comments.\u001b[0m\u001b[0;34m\u001b[0m\u001b[0;34m\u001b[0m\u001b[0;34m\u001b[0m\u001b[0m\n",
      "\u001b[0m\u001b[0;32m-> 1502 \u001b[0;31m    \u001b[0mline\u001b[0m \u001b[0;34m=\u001b[0m \u001b[0mhandle\u001b[0m\u001b[0;34m.\u001b[0m\u001b[0mreadline\u001b[0m\u001b[0;34m(\u001b[0m\u001b[0;34m)\u001b[0m\u001b[0;34m.\u001b[0m\u001b[0mlstrip\u001b[0m\u001b[0;34m(\u001b[0m\u001b[0;34m\"\\ufeff\"\u001b[0m\u001b[0;34m)\u001b[0m\u001b[0;34m\u001b[0m\u001b[0;34m\u001b[0m\u001b[0m\n",
      "\u001b[0m\u001b[0;32m   1503 \u001b[0;31m    \u001b[0;32mwhile\u001b[0m \u001b[0mline\u001b[0m\u001b[0;34m.\u001b[0m\u001b[0misspace\u001b[0m\u001b[0;34m(\u001b[0m\u001b[0;34m)\u001b[0m \u001b[0;32mor\u001b[0m \u001b[0mline\u001b[0m\u001b[0;34m.\u001b[0m\u001b[0mstartswith\u001b[0m\u001b[0;34m(\u001b[0m\u001b[0;34m\"%\"\u001b[0m\u001b[0;34m)\u001b[0m \u001b[0;32mor\u001b[0m \u001b[0mline\u001b[0m\u001b[0;34m.\u001b[0m\u001b[0mstartswith\u001b[0m\u001b[0;34m(\u001b[0m\u001b[0;34m\";\"\u001b[0m\u001b[0;34m)\u001b[0m\u001b[0;34m:\u001b[0m\u001b[0;34m\u001b[0m\u001b[0;34m\u001b[0m\u001b[0m\n",
      "\u001b[0m\u001b[0;32m   1504 \u001b[0;31m        \u001b[0mline\u001b[0m \u001b[0;34m=\u001b[0m \u001b[0mhandle\u001b[0m\u001b[0;34m.\u001b[0m\u001b[0mreadline\u001b[0m\u001b[0;34m(\u001b[0m\u001b[0;34m)\u001b[0m\u001b[0;34m\u001b[0m\u001b[0;34m\u001b[0m\u001b[0m\n",
      "\u001b[0m\n"
     ]
    },
    {
     "name": "stdin",
     "output_type": "stream",
     "text": [
      "ipdb>  handle.readline()\n"
     ]
    },
    {
     "name": "stdout",
     "output_type": "stream",
     "text": [
      "*** ValueError: I/O operation on closed file\n"
     ]
    },
    {
     "name": "stdin",
     "output_type": "stream",
     "text": [
      "ipdb>  q\n"
     ]
    }
   ],
   "source": [
    "%debug"
   ]
  },
  {
   "cell_type": "code",
   "execution_count": 24,
   "id": "461485ec-d28c-4429-9137-53158c18891b",
   "metadata": {},
   "outputs": [
    {
     "data": {
      "text/plain": [
       "b'[Event \"Rated Classical game\"]\\n'"
      ]
     },
     "execution_count": 24,
     "metadata": {},
     "output_type": "execute_result"
    }
   ],
   "source": [
    "z"
   ]
  },
  {
   "cell_type": "code",
   "execution_count": null,
   "id": "45d2500c-0a3c-452b-9c93-fb32bfa18567",
   "metadata": {},
   "outputs": [],
   "source": []
  }
 ],
 "metadata": {
  "kernelspec": {
   "display_name": "Python 3 (ipykernel)",
   "language": "python",
   "name": "python3"
  },
  "language_info": {
   "codemirror_mode": {
    "name": "ipython",
    "version": 3
   },
   "file_extension": ".py",
   "mimetype": "text/x-python",
   "name": "python",
   "nbconvert_exporter": "python",
   "pygments_lexer": "ipython3",
   "version": "3.8.10"
  }
 },
 "nbformat": 4,
 "nbformat_minor": 5
}
